{
 "cells": [
  {
   "cell_type": "markdown",
   "id": "0fd9dfad",
   "metadata": {
    "id": "0fd9dfad"
   },
   "source": [
    "# 1. Собрать данные по дневным ценам активов (акций) и дневным объемам продаж на заданном фондовом рынке за указанный период. Добавить (если нет) данные по индексу рынка."
   ]
  },
  {
   "cell_type": "code",
   "execution_count": 1,
   "id": "4f0374d0",
   "metadata": {
    "id": "4f0374d0"
   },
   "outputs": [],
   "source": [
    "import pandas as pd\n",
    "import yfinance as yf\n",
    "from yahoofinancials import YahooFinancials"
   ]
  },
  {
   "cell_type": "markdown",
   "id": "9ecb10dd",
   "metadata": {
    "id": "9ecb10dd"
   },
   "source": [
    "**Скачал список компаний Франкфуртской биржи**"
   ]
  },
  {
   "cell_type": "code",
   "execution_count": 2,
   "id": "9b772998",
   "metadata": {
    "id": "6b8db071"
   },
   "outputs": [],
   "source": [
    "companies_list_file_name = 'list.xlsx'"
   ]
  },
  {
   "cell_type": "code",
   "execution_count": null,
   "id": "7d589a47",
   "metadata": {
    "id": "0c1a757a"
   },
   "outputs": [],
   "source": [
    "companies_list = pd.read_excel(companies_list_file_name)\n",
    "companies_list"
   ]
  },
  {
   "cell_type": "code",
   "execution_count": null,
   "id": "9f19e84a",
   "metadata": {
    "id": "d9d1df8c"
   },
   "outputs": [],
   "source": [
    "start_date = '2019-01-02'\n",
    "end_date = '2020-01-01'\n",
    "\n",
    "def download_ticker(ticker, start=start_date, end=end_date):\n",
    "    return yf.download(ticker, start, end)"
   ]
  },
  {
   "cell_type": "markdown",
   "id": "1efcafba",
   "metadata": {
    "id": "1efcafba"
   },
   "source": [
    "**Индекс DAX представляет собой главный индекс Франфуртской биржи.  Индекс вычисляется как среднее взвешенное по капитализации значение цен акций крупнейших акционерных компаний Германии (при этом капитализация рассчитывается лишь на основе акций, находящихся в свободном обращении). Индекс учитывает также полученные в виде дивидендов доходы по акциям, предполагая, что дивиденды реинвестируются в акцию, по которой был получен данный дивиденд. Таким образом, индекс отражает суммарный доход по капиталу.**"
   ]
  },
  {
   "cell_type": "code",
   "execution_count": null,
   "id": "84aec954",
   "metadata": {
    "colab": {
     "base_uri": "https://localhost:8080/",
     "height": 467
    },
    "id": "84aec954",
    "outputId": "10a893ca-2b6a-4820-85a9-2905295ce163"
   },
   "outputs": [],
   "source": [
    "DAX_index = download_ticker('^GDAXI')\n",
    "DAX_index.drop(['Open', 'High', 'Low', 'Close'], axis=1, inplace=True)\n",
    "DAX_index"
   ]
  },
  {
   "cell_type": "markdown",
   "id": "22823586",
   "metadata": {
    "id": "22823586"
   },
   "source": [
    "**Выкачал тикеры, удалил из датафрейма компании которые не скачались. Перекачивать не нужно, сохранено в бинарник.**"
   ]
  },
  {
   "cell_type": "code",
   "execution_count": null,
   "id": "4c36317e",
   "metadata": {
    "id": "61002aa5"
   },
   "outputs": [],
   "source": [
    "if False:\n",
    "    tickers = [None] # None для нормальной адресации - в фрейме с компаниями индексация начинается с единицы\n",
    "    failed = []\n",
    "    for index, row in companies_list.iterrows():\n",
    "        ticker = str(row['Ticker'])\n",
    "        ticker_data = download_ticker(ticker)\n",
    "        if ticker_data.shape[0] == 0:\n",
    "            failed.append(index)\n",
    "            continue\n",
    "        tickers.append(ticker_data)\n",
    "    companies_list = companies_list.drop(failed)\n",
    "    companies_list"
   ]
  },
  {
   "cell_type": "markdown",
   "id": "e97fc527",
   "metadata": {
    "id": "e97fc527"
   },
   "source": [
    "**Следующая ячейка загружает обьекты из файлов в память**"
   ]
  },
  {
   "cell_type": "code",
   "execution_count": null,
   "id": "383bb337",
   "metadata": {
    "colab": {
     "base_uri": "https://localhost:8080/",
     "height": 450
    },
    "id": "383bb337",
    "outputId": "187b37fa-c4c9-42af-eb51-b431b7f283e8"
   },
   "outputs": [],
   "source": [
    "companies_list_csv = 'companies_list.csv'\n",
    "companies_list = pd.read_csv(companies_list_csv, index_col='index')\n",
    "companies_list"
   ]
  },
  {
   "cell_type": "code",
   "execution_count": null,
   "id": "OzLYXEPtSCpL",
   "metadata": {
    "colab": {
     "base_uri": "https://localhost:8080/",
     "height": 450
    },
    "id": "OzLYXEPtSCpL",
    "outputId": "069af9c7-eb8a-44c9-9b7d-6c4b90d836aa"
   },
   "outputs": [],
   "source": [
    "from os import listdir\n",
    "from os.path import isfile, join\n",
    "tickers_folder = 'tickers'\n",
    "onlyfiles = [f for f in listdir(tickers_folder) if isfile(join(tickers_folder, f))]\n",
    "tickers = []\n",
    "for i in range(len(onlyfiles)):\n",
    "    path = tickers_folder + '/' + str(i)\n",
    "    tickers.append(pd.read_csv(path, index_col='Date'))\n",
    "tickers[0]"
   ]
  },
  {
   "cell_type": "code",
   "execution_count": null,
   "id": "6a07a74d",
   "metadata": {
    "colab": {
     "base_uri": "https://localhost:8080/"
    },
    "id": "6a07a74d",
    "outputId": "016028bb-7022-4e42-b6c4-5c07522fd3c9"
   },
   "outputs": [],
   "source": [
    "len(tickers)"
   ]
  },
  {
   "cell_type": "markdown",
   "id": "c30a046a",
   "metadata": {
    "id": "c30a046a"
   },
   "source": [
    "# 2. Преобразовать данные по ценам в данные по доходностям (используйте логарифмическую доходность). Вычислите оценки ожидаемых доходностей и стандартных отклонений и постройте «карту» активов в системе координат (σ, E)."
   ]
  },
  {
   "cell_type": "markdown",
   "id": "a527b5e4",
   "metadata": {
    "id": "a527b5e4"
   },
   "source": [
    "**По взвешенной цене закрытия считаю логарифмические доходности за периоды.**"
   ]
  },
  {
   "cell_type": "code",
   "execution_count": null,
   "id": "58b5330c",
   "metadata": {
    "id": "58b5330c"
   },
   "outputs": [],
   "source": [
    "count = 0\n",
    "for ticker in tickers:\n",
    "    log_returns = []\n",
    "    close_price = ticker['Adj Close']\n",
    "    log_returns.append(None)\n",
    "    for i in range(1, len(close_price)):\n",
    "        log_return = (close_price[i] - close_price[i - 1]) / close_price[i - 1]\n",
    "        log_returns.append(log_return)\n",
    "    ticker['LogReturn'] = log_returns\n",
    "    count += 1"
   ]
  },
  {
   "cell_type": "code",
   "execution_count": null,
   "id": "6bc01f7f",
   "metadata": {
    "colab": {
     "base_uri": "https://localhost:8080/",
     "height": 450
    },
    "id": "6bc01f7f",
    "outputId": "48181762-0272-4848-94a6-8d84679a4e1d"
   },
   "outputs": [],
   "source": [
    "tickers[0]"
   ]
  },
  {
   "cell_type": "code",
   "execution_count": null,
   "id": "4cbdd615",
   "metadata": {},
   "outputs": [],
   "source": [
    "companies_list.reset_index(inplace=True)\n",
    "companies_list"
   ]
  },
  {
   "cell_type": "markdown",
   "id": "bab36468",
   "metadata": {
    "id": "bab36468"
   },
   "source": [
    "**Для каждого актива высчитываю логарифмическую доходность за год (по сумме доходностей за отдельные периоды), а также оценку доходности как среднее от доходностей за отдельные периоды.**"
   ]
  },
  {
   "cell_type": "code",
   "execution_count": null,
   "id": "ce777ee8",
   "metadata": {
    "id": "ce777ee8"
   },
   "outputs": [],
   "source": [
    "companies_list['Annual LogReturn'] = [tickers[i]['LogReturn'].sum() for i, row in companies_list.iterrows()]\n",
    "companies_list['E'] = [tickers[i]['LogReturn'].mean() for i, row in companies_list.iterrows()]"
   ]
  },
  {
   "cell_type": "markdown",
   "id": "a32674e6",
   "metadata": {
    "id": "a32674e6"
   },
   "source": [
    "**Риск - стандартное отклонение доходности**"
   ]
  },
  {
   "cell_type": "code",
   "execution_count": null,
   "id": "963b794e",
   "metadata": {
    "id": "963b794e"
   },
   "outputs": [],
   "source": [
    "companies_list['Risk'] = [tickers[i]['LogReturn'].std() for i, row in companies_list.iterrows()]"
   ]
  },
  {
   "cell_type": "code",
   "execution_count": null,
   "id": "c625196a",
   "metadata": {},
   "outputs": [],
   "source": [
    "plt.figure(figsize=(10,10))\n",
    "fig, ax = plt.subplots(figsize=(10,10))\n",
    "ax.scatter(companies_list['Risk'], companies_list['E'], label='Актив')\n",
    "ax.legend()\n",
    "plt.xlabel('σ (Риск)')\n",
    "plt.ylabel('E (Лог. доходность)')"
   ]
  },
  {
   "cell_type": "markdown",
   "id": "c396e039",
   "metadata": {
    "id": "c396e039"
   },
   "source": [
    "**В некоторых слишком мало наблюдений, удалил все где меньше 100 периодов.**"
   ]
  },
  {
   "cell_type": "code",
   "execution_count": null,
   "id": "ca1e7755",
   "metadata": {
    "id": "ca1e7755"
   },
   "outputs": [],
   "source": [
    "little_observations = []\n",
    "for i in range(len(tickers)):\n",
    "    if len(tickers[i]) < 100:\n",
    "        little_observations.append(i)"
   ]
  },
  {
   "cell_type": "code",
   "execution_count": null,
   "id": "a00a8948",
   "metadata": {
    "id": "a00a8948"
   },
   "outputs": [],
   "source": [
    "little_observations"
   ]
  },
  {
   "cell_type": "raw",
   "id": "41ac1fd5",
   "metadata": {
    "id": "3ef34d2f"
   },
   "source": [
    "companies_list = companies_list.drop(little_observations)"
   ]
  },
  {
   "cell_type": "code",
   "execution_count": null,
   "id": "d404a142",
   "metadata": {
    "id": "d404a142"
   },
   "outputs": [],
   "source": [
    "companies_list = companies_list.reset_index(drop=True)"
   ]
  },
  {
   "cell_type": "markdown",
   "id": "45241067",
   "metadata": {
    "id": "45241067"
   },
   "source": [
    "**Итоговые данные с которыми можно работать:**"
   ]
  },
  {
   "cell_type": "code",
   "execution_count": null,
   "id": "88d277e9",
   "metadata": {
    "colab": {
     "base_uri": "https://localhost:8080/",
     "height": 450
    },
    "id": "88d277e9",
    "outputId": "85277aed-ba96-474a-cd41-ffaf890df9b8"
   },
   "outputs": [],
   "source": [
    "companies_list"
   ]
  },
  {
   "cell_type": "code",
   "execution_count": null,
   "id": "397882c0",
   "metadata": {
    "id": "397882c0"
   },
   "outputs": [],
   "source": [
    "import matplotlib.pyplot as plt"
   ]
  },
  {
   "cell_type": "code",
   "execution_count": null,
   "id": "0cef4737",
   "metadata": {},
   "outputs": [],
   "source": [
    "plt.figure(figsize=(10,10))\n",
    "fig, ax = plt.subplots(figsize=(10,10))\n",
    "ax.scatter(companies_list['Risk'], companies_list['E'], label='Актив')\n",
    "ax.legend()\n",
    "plt.xlabel('σ (Риск)')\n",
    "plt.ylabel('E (Лог. доходность)')"
   ]
  },
  {
   "cell_type": "code",
   "execution_count": null,
   "id": "bed39c7d",
   "metadata": {},
   "outputs": [],
   "source": [
    "for i, row in companies_list.iterrows():\n",
    "    if row['Risk'] > 10:\n",
    "        companies_list.drop(i, inplace=True)"
   ]
  },
  {
   "cell_type": "code",
   "execution_count": null,
   "id": "a75eb1db",
   "metadata": {},
   "outputs": [],
   "source": [
    "plt.figure(figsize=(10,10))\n",
    "fig, ax = plt.subplots(figsize=(10,10))\n",
    "ax.scatter(companies_list['Risk'], companies_list['E'], label='Актив')\n",
    "ax.legend()\n",
    "plt.xlabel('σ (Риск)')\n",
    "plt.ylabel('E (Лог. доходность)')"
   ]
  },
  {
   "cell_type": "code",
   "execution_count": null,
   "id": "42a060ea",
   "metadata": {},
   "outputs": [],
   "source": [
    "for i, row in companies_list.iterrows():\n",
    "    if row['Risk'] > 1:\n",
    "        companies_list.drop(i, inplace=True)"
   ]
  },
  {
   "cell_type": "code",
   "execution_count": null,
   "id": "5632c1a4",
   "metadata": {},
   "outputs": [],
   "source": [
    "plt.figure(figsize=(10,10))\n",
    "fig, ax = plt.subplots(figsize=(10,10))\n",
    "ax.scatter(companies_list['Risk'], companies_list['E'], label='Актив')\n",
    "ax.legend()\n",
    "plt.xlabel('σ (Риск)')\n",
    "plt.ylabel('E (Лог. доходность)')"
   ]
  },
  {
   "cell_type": "code",
   "execution_count": null,
   "id": "409b2953",
   "metadata": {
    "id": "409b2953"
   },
   "outputs": [],
   "source": [
    "for i, row in companies_list.iterrows():\n",
    "    if row['Risk'] > 0.1:\n",
    "        companies_list.drop(i, inplace=True)"
   ]
  },
  {
   "cell_type": "code",
   "execution_count": null,
   "id": "6185b412",
   "metadata": {
    "colab": {
     "base_uri": "https://localhost:8080/",
     "height": 640
    },
    "id": "6185b412",
    "outputId": "33525af1-95b5-4001-8b0d-800c0a837ea0"
   },
   "outputs": [],
   "source": [
    "plt.figure(figsize=(10,10))\n",
    "fig, ax = plt.subplots(figsize=(10,10))\n",
    "ax.scatter(companies_list['Risk'], companies_list['E'], label='Актив')\n",
    "ax.legend()\n",
    "plt.xlabel('σ (Риск)')\n",
    "plt.ylabel('E (Лог. доходность)')"
   ]
  },
  {
   "cell_type": "markdown",
   "id": "c289497d",
   "metadata": {},
   "source": [
    "Даже несмотря на то, что получилось собрать не очень много данных о компаниях, карта активов дает довольно четкий рисунок. Можно увидеть, что активы имеют тенденцию располагаться примерно в одной области графика."
   ]
  },
  {
   "cell_type": "markdown",
   "id": "18c85254",
   "metadata": {
    "id": "18c85254"
   },
   "source": [
    "# 3. Рассмотрите портфель с равными долями капитала и отметьте его на карте активов в системе координат (σ, E). Дайте характеристику этому портфелю."
   ]
  },
  {
   "cell_type": "code",
   "execution_count": null,
   "id": "95a6b277",
   "metadata": {
    "colab": {
     "base_uri": "https://localhost:8080/"
    },
    "id": "95a6b277",
    "outputId": "f3ddfffa-4605-4ca2-9048-a7c37e95318f"
   },
   "outputs": [],
   "source": [
    "balanced_E = companies_list['E'].mean()\n",
    "balanced_Risk = companies_list['E'].std()\n",
    "print('Сбалансированный портфель:\\nE =', balanced_E, '\\nσ =', balanced_Risk)"
   ]
  },
  {
   "cell_type": "code",
   "execution_count": null,
   "id": "7c8ffcec",
   "metadata": {
    "colab": {
     "base_uri": "https://localhost:8080/",
     "height": 623
    },
    "id": "7c8ffcec",
    "outputId": "7339e02d-b669-4f51-b259-aec4223906b4"
   },
   "outputs": [],
   "source": [
    "plt.figure(figsize=(10,10))\n",
    "fig, ax = plt.subplots(figsize=(10,10))\n",
    "ax.scatter(companies_list['Risk'], companies_list['E'], label='Актив')\n",
    "ax.scatter([balanced_Risk], [balanced_E], marker='x', color='red', s=[250], label='Равномерный портфель')\n",
    "ax.legend()\n",
    "plt.xlabel('σ (Риск)')\n",
    "plt.ylabel('E (Лог. доходность)')\n",
    "plt.show()"
   ]
  },
  {
   "cell_type": "markdown",
   "id": "05128f79",
   "metadata": {},
   "source": [
    "На карте видно, что равномерный портфель имеет небольшой риск и небольшую доходность относительно других активов. При этом доходность положительная.\\\n",
    "Возможно, портфель является Парето-оптимальным, так как находится на границе обозримой области портфелей."
   ]
  },
  {
   "cell_type": "markdown",
   "id": "0d4597f3",
   "metadata": {
    "id": "0d4597f3"
   },
   "source": [
    "# 4. Рассмотрите индекс рынка и отметьте его на карте активов в системе координат (σ,E). Дайте характеристику индексу рынка."
   ]
  },
  {
   "cell_type": "code",
   "execution_count": null,
   "id": "f97c6ba7",
   "metadata": {
    "colab": {
     "base_uri": "https://localhost:8080/",
     "height": 450
    },
    "id": "f97c6ba7",
    "outputId": "fa0c94a6-6225-47f1-9bae-fc5b409441d3"
   },
   "outputs": [],
   "source": [
    "log_returns = []\n",
    "close_price = DAX_index['Adj Close']\n",
    "log_returns.append(None)\n",
    "for i in range(1, len(close_price)):\n",
    "    log_return = (close_price[i] - close_price[i - 1]) / close_price[i - 1]\n",
    "    log_returns.append(log_return)\n",
    "DAX_index['LogReturn'] = log_returns\n",
    "DAX_index"
   ]
  },
  {
   "cell_type": "code",
   "execution_count": null,
   "id": "085fba0f",
   "metadata": {
    "colab": {
     "base_uri": "https://localhost:8080/"
    },
    "id": "085fba0f",
    "outputId": "0c21aec1-ec87-4133-e934-325979e50212"
   },
   "outputs": [],
   "source": [
    "dax_annual_log_return = DAX_index['LogReturn'].sum()\n",
    "dax_E = DAX_index['LogReturn'].mean()\n",
    "dax_Risk = DAX_index['LogReturn'].std()\n",
    "print('Годовая логарифмическая доходность рынка по индексу DAX =', dax_annual_log_return)\n",
    "print('Оценка логарифмическая доходности рынка по индексу DAX =', dax_E)\n",
    "print('Оценка рынка по индексу DAX =', dax_Risk)"
   ]
  },
  {
   "cell_type": "code",
   "execution_count": null,
   "id": "2d03270e",
   "metadata": {
    "colab": {
     "base_uri": "https://localhost:8080/",
     "height": 623
    },
    "id": "2d03270e",
    "outputId": "375fa234-35d7-49fe-9034-60bc3ebdd474"
   },
   "outputs": [],
   "source": [
    "plt.figure(figsize=(10,10))\n",
    "fig, ax = plt.subplots(figsize=(10,10))\n",
    "ax.scatter(companies_list['Risk'], companies_list['E'], label='Актив')\n",
    "ax.scatter([balanced_Risk], [balanced_E], marker='x', color='red', s=[250], label='Равномерный портфель')\n",
    "ax.scatter([dax_Risk], [dax_E], marker='+', color='red', s=[250], label='Индекс рынка')\n",
    "ax.legend()\n",
    "plt.xlabel('σ (Риск)')\n",
    "plt.ylabel('E (Лог. доходность)')\n",
    "plt.show()"
   ]
  },
  {
   "cell_type": "markdown",
   "id": "4c6ca41a",
   "metadata": {},
   "source": [
    "Индекс рынка имеет риск немного больше, чем равномерный портфель, при этом его доходность почти не отличается от равномерного портфеля.\\\n",
    "Можно предположить, что это означает, что рынок находится в стабильном состоянии и медленно растет.\\\n",
    "Индекс рынка не является Парето-оптимальным."
   ]
  },
  {
   "cell_type": "markdown",
   "id": "zpOS415GzWl2",
   "metadata": {
    "id": "zpOS415GzWl2"
   },
   "source": [
    "# 5. Задайте уровень риска и оцените VaR (Value at Risk = Сумма под Риском) для активов вашего рынка."
   ]
  },
  {
   "cell_type": "markdown",
   "id": "huLdiij40vgn",
   "metadata": {
    "id": "huLdiij40vgn"
   },
   "source": [
    "Для нахождения суммы под риском,были выбраны два показателя доверия гамма: 0.9 и 0.95. Сумма под риском - квантиль уровня гамма, где гамма — это наименьшая величина потерь, такая, что убыток превысит это значение с вероятностью не большей (1 - гамма)\n",
    "\n",
    "Получаем точку, которая соответствовует требуемому уровню доверительной вероятности"
   ]
  },
  {
   "cell_type": "code",
   "execution_count": null,
   "id": "0fd85e70",
   "metadata": {
    "id": "0fd85e70"
   },
   "outputs": [],
   "source": [
    "import copy\n",
    "import numpy as np\n",
    "\n",
    "Var1_np = []\n",
    "Var2_np = []\n",
    "\n",
    "for index in list(companies_list.index):\n",
    "\n",
    "    simpleReturns = tickers[index]['LogReturn'].dropna()\n",
    "\n",
    "    if (len(simpleReturns) != 0):\n",
    "      Var1_np.append(-np.quantile(simpleReturns, 1-0.9))\n",
    "      Var2_np.append(-np.quantile(simpleReturns, 1-0.95))"
   ]
  },
  {
   "cell_type": "markdown",
   "id": "VNOeruQt1VYE",
   "metadata": {
    "id": "VNOeruQt1VYE"
   },
   "source": [
    "**Для $\\gamma$ = 0.9**"
   ]
  },
  {
   "cell_type": "code",
   "execution_count": null,
   "id": "5NCM0QMcf3xQ",
   "metadata": {
    "colab": {
     "base_uri": "https://localhost:8080/",
     "height": 513
    },
    "id": "5NCM0QMcf3xQ",
    "outputId": "a6d7c1ae-3a81-436f-a78b-5c23d922fa8e"
   },
   "outputs": [],
   "source": [
    "import matplotlib.pyplot as plt\n",
    "plt.hist(Var1_np, bins=20)\n",
    "plt.show()\n",
    "\n",
    "plt.hist(Var1_np, bins=20)\n",
    "plt.show()"
   ]
  },
  {
   "cell_type": "code",
   "execution_count": null,
   "id": "N0E0RB9HgLcQ",
   "metadata": {
    "colab": {
     "base_uri": "https://localhost:8080/"
    },
    "id": "N0E0RB9HgLcQ",
    "outputId": "29c640fa-9b60-40c5-8fa6-17a8328d4222"
   },
   "outputs": [],
   "source": [
    "best_VaR_1 = min(Var1_np)\n",
    "pd.set_option(\"display.max_columns\", None)\n",
    "best_VaR_1_idx = Var1_np.index(best_VaR_1)\n",
    "print(companies_list.loc[[65]]) "
   ]
  },
  {
   "cell_type": "code",
   "execution_count": null,
   "id": "I3ioViYo8Mml",
   "metadata": {
    "colab": {
     "base_uri": "https://localhost:8080/",
     "height": 623
    },
    "id": "I3ioViYo8Mml",
    "outputId": "3c430633-bcff-4443-b413-ecddd8179b51"
   },
   "outputs": [],
   "source": [
    "plt.figure(figsize=(10,10))\n",
    "fig, ax = plt.subplots(figsize=(10,10))\n",
    "ax.scatter(companies_list['Risk'], companies_list['E'], label='Актив')\n",
    "ax.scatter([balanced_Risk], [balanced_E], marker='x', color='red', s=[250], label='Равномерный портфель')\n",
    "ax.scatter([0.009964], [0.0012], marker='+', color='green', s=[250], label='Наиболее предпочтительный актив') \n",
    "ax.scatter([dax_Risk], [dax_E], marker='+', color='red', s=[250], label='Индекс рынка')\n",
    "ax.legend()\n",
    "plt.xlabel('σ (Риск)')\n",
    "plt.ylabel('E (Лог. доходность)')\n",
    "plt.show()"
   ]
  },
  {
   "cell_type": "markdown",
   "id": "kHqLgZzR1eXQ",
   "metadata": {
    "id": "kHqLgZzR1eXQ"
   },
   "source": [
    "**Для $\\gamma$ = 0.95**"
   ]
  },
  {
   "cell_type": "code",
   "execution_count": null,
   "id": "ZsbdbKNZ1hb7",
   "metadata": {
    "colab": {
     "base_uri": "https://localhost:8080/",
     "height": 513
    },
    "id": "ZsbdbKNZ1hb7",
    "outputId": "65d2fd86-eee4-4012-e7b3-c8b44cc5dde1"
   },
   "outputs": [],
   "source": [
    "import matplotlib.pyplot as plt\n",
    "plt.hist(Var2_np, bins=20)\n",
    "plt.show()\n",
    "\n",
    "plt.hist(Var2_np, bins=20)\n",
    "plt.show()"
   ]
  },
  {
   "cell_type": "code",
   "execution_count": null,
   "id": "xCRM855Y1l9P",
   "metadata": {
    "colab": {
     "base_uri": "https://localhost:8080/"
    },
    "id": "xCRM855Y1l9P",
    "outputId": "c04ebcce-7603-4676-9c2c-a0acf0aebbfa"
   },
   "outputs": [],
   "source": [
    "best_VaR_2 = min(Var2_np)\n",
    "pd.set_option(\"display.max_columns\", None)\n",
    "best_VaR_2_idx = Var2_np.index(best_VaR_2)\n",
    "print(companies_list.loc[[61]]) "
   ]
  },
  {
   "cell_type": "code",
   "execution_count": null,
   "id": "Up4ZUXYa1sYn",
   "metadata": {
    "colab": {
     "base_uri": "https://localhost:8080/",
     "height": 623
    },
    "id": "Up4ZUXYa1sYn",
    "outputId": "495007fb-4592-4819-dff0-064d12aa8129"
   },
   "outputs": [],
   "source": [
    "plt.figure(figsize=(10,10))\n",
    "fig, ax = plt.subplots(figsize=(10,10))\n",
    "ax.scatter(companies_list['Risk'], companies_list['E'], label='Актив')\n",
    "ax.scatter([balanced_Risk], [balanced_E], marker='x', color='red', s=[250], label='Равномерный портфель')\n",
    "ax.scatter([0.025726  ], [0.000903], marker='+', color='green', s=[250], label='Наиболее предпочтительный актив') \n",
    "ax.scatter([dax_Risk], [dax_E], marker='+', color='red', s=[250], label='Индекс рынка')\n",
    "ax.legend()\n",
    "plt.xlabel('σ (Риск)')\n",
    "plt.ylabel('E (Лог. доходность)')\n",
    "plt.show()"
   ]
  },
  {
   "cell_type": "markdown",
   "id": "tMNj_dgR1yR2",
   "metadata": {
    "id": "tMNj_dgR1yR2"
   },
   "source": [
    "**VAR сбалансированного**"
   ]
  },
  {
   "cell_type": "code",
   "execution_count": null,
   "id": "PEvN1t8EEu6P",
   "metadata": {
    "colab": {
     "base_uri": "https://localhost:8080/"
    },
    "id": "PEvN1t8EEu6P",
    "outputId": "ec187d87-1a71-4f57-976b-8f9ad6348730"
   },
   "outputs": [],
   "source": [
    "print(\" Потери не превысят \",-np.quantile(companies_list['Annual LogReturn'], 1-0.9),  \"с 90% уверенностью\")\n",
    "print(\" Потери не превысят \",-np.quantile(companies_list['Annual LogReturn'], 1-0.95),  \"с 95% уверенностью\")"
   ]
  },
  {
   "cell_type": "markdown",
   "id": "nFkIv8mL103f",
   "metadata": {
    "id": "nFkIv8mL103f"
   },
   "source": [
    "**VAR индекса рынка**"
   ]
  },
  {
   "cell_type": "code",
   "execution_count": null,
   "id": "w5uYH2xRIw6i",
   "metadata": {
    "colab": {
     "base_uri": "https://localhost:8080/"
    },
    "id": "w5uYH2xRIw6i",
    "outputId": "6291f189-e349-499d-c504-c27ba86b3926"
   },
   "outputs": [],
   "source": [
    "log_returns = []\n",
    "close_price = DAX_index['Adj Close']\n",
    "log_returns.append(None)\n",
    "for i in range(1, len(close_price)):\n",
    "    log_return = (close_price[i] - close_price[i - 1]) / close_price[i - 1]\n",
    "    log_returns.append(log_return)\n",
    "print(\" Потери не превысят \",-np.quantile(list(filter(None, log_returns)), 1-0.9),  \"с 90% уверенностью\")\n",
    "print(\" Потери не превысят \",-np.quantile(list(filter(None, log_returns)), 1-0.95),  \"с 95% уверенностью\")"
   ]
  },
  {
   "cell_type": "markdown",
   "id": "wQTNh0yj1_2u",
   "metadata": {
    "id": "wQTNh0yj1_2u"
   },
   "source": [
    "По характеристике VaR индекс рынка является приоритетнее сбалансированного портфеля"
   ]
  },
  {
   "cell_type": "markdown",
   "id": "eLrbOna7Q2MF",
   "metadata": {
    "id": "eLrbOna7Q2MF"
   },
   "source": [
    "# 6. Выберите несколько интересных (значимых) активов рынка. Можно ли считать наблюдаемые доходности (объемы продаж) конкретного актива повторной выборкой из некоторого распределения (белый шум)?"
   ]
  },
  {
   "cell_type": "code",
   "execution_count": null,
   "id": "7geOFlBEQ7Be",
   "metadata": {
    "colab": {
     "base_uri": "https://localhost:8080/"
    },
    "id": "7geOFlBEQ7Be",
    "outputId": "33b92b4e-f041-4e04-fe3e-b318352cd5b2"
   },
   "outputs": [],
   "source": [
    "dax_companies = [5, 7, 34, 41, 44, 51]\n",
    "for c in dax_companies:\n",
    "    print(companies_list.loc[c]['Company'])"
   ]
  },
  {
   "cell_type": "markdown",
   "id": "LZigkhvETAo7",
   "metadata": {
    "id": "LZigkhvETAo7"
   },
   "source": [
    "Указанные выше компании были сочтены интересными, так как они входят в список 30 компаний, по которым рассчитывается индекс Франкфуртского фондового рынка **DAX**."
   ]
  },
  {
   "cell_type": "code",
   "execution_count": null,
   "id": "tppyvcUVTC11",
   "metadata": {
    "colab": {
     "base_uri": "https://localhost:8080/"
    },
    "id": "tppyvcUVTC11",
    "outputId": "2ecba073-f131-43f1-ebfb-65ae59face7f"
   },
   "outputs": [],
   "source": [
    "for i in dax_companies:\n",
    "    print(len(tickers[i]))"
   ]
  },
  {
   "cell_type": "markdown",
   "id": "GULwImkuTDdU",
   "metadata": {
    "id": "GULwImkuTDdU"
   },
   "source": [
    "По всем шести компаниям есть достаточное число наблюдений для проверки гипотезы."
   ]
  },
  {
   "cell_type": "markdown",
   "id": "U_xBdneCTIhU",
   "metadata": {
    "id": "U_xBdneCTIhU"
   },
   "source": [
    "### Гипотеза о случайности\n",
    "$X = (X_1, X_2 ... X_n)$ - выборка.\\\n",
    "$H_0$ - гипотеза случайности. Если она верна, то случайные величины в выборке независимы и не являются повторной выборкой из распределения.\\\n",
    "$H_1$ - гипотеза случайности отвергается, данные являются повторной выборкой"
   ]
  },
  {
   "cell_type": "markdown",
   "id": "Ks_KWGYdTKxi",
   "metadata": {
    "id": "Ks_KWGYdTKxi"
   },
   "source": [
    "#### Критерий инверсий\n",
    "Говорят, что компоненты $X_i, X_j$ образуют инверсию, если $i<j$ и $X_i > X_j$\n",
    "Общее число инверсий можно назвать рассматривать как статистику $T_n$ для выборки.\\\n",
    "Интервал значений статистики: $0 <= T_n <= \\frac{n(n-1)}{2}$\\\n",
    "Чем ближе значение к границам интервала, тем больше **упорядоченность** данных. Гипотеза случайности отклоняется если данные упорядоченны, не хаотичны."
   ]
  },
  {
   "cell_type": "markdown",
   "id": "yq55gd1gTM9o",
   "metadata": {
    "id": "yq55gd1gTM9o"
   },
   "source": [
    "Матожидание и дисперсия статистики $T_n$ По Ивченко и Медведеву:\\\n",
    "$E(T_n)=\\frac{n(n-1)}{4}$\\\n",
    "$D(T_n)=\\frac{n(n-1)(2n+5)}{72}$"
   ]
  },
  {
   "cell_type": "markdown",
   "id": "XR1-916HTNGr",
   "metadata": {
    "id": "XR1-916HTNGr"
   },
   "source": [
    "Гипотеза не будет отвергнута, если нормализованная статистика $T_n$ не будет превышать процентную точку для заданного уровня доверия $\\alpha$.\n",
    "Нормализованная статистика $T_n$ вычисляется по формуле: $\\frac{T_n - E(T_n)}{\\sqrt{D(T_n)}}$ \\\n",
    "Распространенный уровень доверия $\\alpha$ - 0.05"
   ]
  },
  {
   "cell_type": "code",
   "execution_count": null,
   "id": "JPFoATpwTSpw",
   "metadata": {
    "id": "JPFoATpwTSpw"
   },
   "outputs": [],
   "source": [
    "def count_inversions(arr):\n",
    "    inv_count = 0\n",
    "    for i in range(len(arr)-1):\n",
    "        #print(i, end=', ')\n",
    "        for j in arr[i+1:]:\n",
    "            #print(j, end=' ')\n",
    "            if arr[i] > j:\n",
    "                inv_count += 1\n",
    "        #print()\n",
    "    return inv_count"
   ]
  },
  {
   "cell_type": "code",
   "execution_count": null,
   "id": "MJJM51lyTUe8",
   "metadata": {
    "id": "MJJM51lyTUe8"
   },
   "outputs": [],
   "source": [
    "import scipy.stats as stats"
   ]
  },
  {
   "cell_type": "markdown",
   "id": "6wvnO8PkTWKK",
   "metadata": {
    "id": "6wvnO8PkTWKK"
   },
   "source": [
    "**Проверяем на случайность доходности**"
   ]
  },
  {
   "cell_type": "code",
   "execution_count": null,
   "id": "FRF7ObnoTYgQ",
   "metadata": {
    "colab": {
     "base_uri": "https://localhost:8080/"
    },
    "id": "FRF7ObnoTYgQ",
    "outputId": "6f9bab7c-f611-4134-d7e5-0c83e635a9f4"
   },
   "outputs": [],
   "source": [
    "for i in dax_companies:\n",
    "    alpha = 0.05\n",
    "    returns = tickers[i]['LogReturn']\n",
    "    Tn = count_inversions(returns)\n",
    "    n = len(returns)\n",
    "    E_Tn = (n*(n-1))/4\n",
    "    D_Tn = (n*(n-1)*(2*n+5))/72\n",
    "    normalized_Tn = (Tn - E_Tn)/(D_Tn**(1/2))\n",
    "    p_value = round(stats.norm.sf(abs(normalized_Tn))*2, 2)\n",
    "    if abs(normalized_Tn) >= stats.norm.ppf(1 - alpha/2):\n",
    "        print('Гипотеза для компании', companies_list.loc[i]['Company'], 'отвергается, p_value', p_value)\n",
    "    else:\n",
    "        print('Гипотеза для компании', companies_list.loc[i]['Company'], 'принимается, p_value', p_value)"
   ]
  },
  {
   "cell_type": "markdown",
   "id": "T_kO6yO_TcU2",
   "metadata": {
    "id": "T_kO6yO_TcU2"
   },
   "source": [
    "Делаем вывод, что данные по доходностям по всем компаниям, кроме \"Linde\", являются случайными."
   ]
  },
  {
   "cell_type": "markdown",
   "id": "h8tNpw4HTdZ2",
   "metadata": {
    "id": "h8tNpw4HTdZ2"
   },
   "source": [
    "**Проверяем на случайность объемы продаж**"
   ]
  },
  {
   "cell_type": "code",
   "execution_count": null,
   "id": "6bboHq7jTfR1",
   "metadata": {
    "colab": {
     "base_uri": "https://localhost:8080/"
    },
    "id": "6bboHq7jTfR1",
    "outputId": "38820656-e520-49a7-f81f-b6030feb85c8"
   },
   "outputs": [],
   "source": [
    "for i in dax_companies:\n",
    "    alpha = 0.05\n",
    "    returns = tickers[i]['Volume']\n",
    "    Tn = count_inversions(returns)\n",
    "    n = len(returns)\n",
    "    E_Tn = (n*(n-1))/4\n",
    "    D_Tn = (n*(n-1)*(2*n+5))/72\n",
    "    normalized_Tn = (Tn - E_Tn)/(D_Tn**(1/2))\n",
    "    p_value = round(stats.norm.sf(abs(normalized_Tn))*2, 2)\n",
    "    if abs(normalized_Tn) >= stats.norm.ppf(1 - alpha/2):\n",
    "        print('Гипотеза для компании', companies_list.loc[i]['Company'], 'отвергается, p_value', p_value)\n",
    "    else:\n",
    "        print('Гипотеза для компании', companies_list.loc[i]['Company'], 'принимается, p_value', p_value)"
   ]
  },
  {
   "cell_type": "markdown",
   "id": "GcZQRRUuTg9O",
   "metadata": {
    "id": "GcZQRRUuTg9O"
   },
   "source": [
    "Делаем вывод, что данные по объемам продаж являются случайными только для компаний \"HEIDELBERGCEMENT\" и \"MERCK\"."
   ]
  },
  {
   "cell_type": "markdown",
   "id": "GGetuBExzgsh",
   "metadata": {
    "id": "GGetuBExzgsh"
   },
   "source": [
    "# 7. Выберите несколько интересных (значимых) активов рынка из разных производственных секторов. В предположении, что наблюдаемые доходности (объемы продаж) являются повторной выборкой из некоторого распределения исследовать (выборочно) распределения доходностей и объемов продаж выбранных активов."
   ]
  },
  {
   "cell_type": "markdown",
   "id": "18650a1jwYnv",
   "metadata": {
    "id": "18650a1jwYnv"
   },
   "source": [
    "Для отбора значимых активов используется кэффициент sharp-ratio."
   ]
  },
  {
   "cell_type": "code",
   "execution_count": null,
   "id": "FXkm29-VXuF4",
   "metadata": {
    "id": "FXkm29-VXuF4"
   },
   "outputs": [],
   "source": [
    "companies_list['SR'] = (companies_list['E'] - companies_list['E'][40])/ companies_list['Risk']"
   ]
  },
  {
   "cell_type": "code",
   "execution_count": null,
   "id": "X0pL2b5IYMYx",
   "metadata": {
    "colab": {
     "base_uri": "https://localhost:8080/",
     "height": 1000
    },
    "id": "X0pL2b5IYMYx",
    "outputId": "249f0106-2167-4d34-d3d3-e3fbc4b4bab7"
   },
   "outputs": [],
   "source": [
    "companies_list.sort_values(by='SR')[-20:]"
   ]
  },
  {
   "cell_type": "markdown",
   "id": "lFzcAVMAwpXt",
   "metadata": {
    "id": "lFzcAVMAwpXt"
   },
   "source": [
    "Получаем список активов, наиболее интересных к рассмотрению"
   ]
  },
  {
   "cell_type": "code",
   "execution_count": null,
   "id": "pBW1uf-Trm58",
   "metadata": {
    "colab": {
     "base_uri": "https://localhost:8080/"
    },
    "id": "pBW1uf-Trm58",
    "outputId": "145063ad-8dbd-49ef-dd4d-8b4a39ad8bcd"
   },
   "outputs": [],
   "source": [
    "print(companies_list.loc[[58, 41, 15, 39, 34]])"
   ]
  },
  {
   "cell_type": "markdown",
   "id": "NukKMAp5w1J6",
   "metadata": {
    "id": "NukKMAp5w1J6"
   },
   "source": [
    "Предположим, что доходности выбранных активов имеют нормальное распределение, строим гистограммы доходностей"
   ]
  },
  {
   "cell_type": "code",
   "execution_count": null,
   "id": "2313af2a",
   "metadata": {},
   "outputs": [],
   "source": [
    "import seaborn as sns\n",
    "stocks_inds = [58, 41, 15, 39, 34]\n",
    "for ind in stocks_inds:\n",
    "  plt.grid()\n",
    "  sns.distplot(tickers[ind]['LogReturn'], bins=10)\n",
    "  plt.title(companies_list.loc[ind]['Company'])\n",
    "  plt.show()"
   ]
  },
  {
   "cell_type": "markdown",
   "id": "371ad541",
   "metadata": {},
   "source": [
    "По гистограммам можно видеть, что скорее всего нормальное распределение доходностей имеют компании  DELTICOM и HEIDELBERGCEMENT."
   ]
  },
  {
   "cell_type": "code",
   "execution_count": null,
   "id": "3efa4712",
   "metadata": {},
   "outputs": [],
   "source": [
    "import seaborn as sns\n",
    "stocks_inds = [58, 41, 15, 39, 34]\n",
    "for ind in stocks_inds:\n",
    "  plt.grid()\n",
    "  sns.distplot(tickers[ind]['Volume'], bins=10)\n",
    "  plt.title(companies_list.loc[ind]['Company'])\n",
    "  plt.show()"
   ]
  },
  {
   "cell_type": "markdown",
   "id": "d59f796e",
   "metadata": {},
   "source": [
    "По гистограммам можно видеть, что скорее всего нормального распределение продаж не имеет ни одна компания из выбранных."
   ]
  },
  {
   "cell_type": "markdown",
   "id": "REZtsiI7w9vn",
   "metadata": {
    "id": "REZtsiI7w9vn"
   },
   "source": [
    "Построим тесты для проверки гипотезы о нормальности распределения доходности с уровнем значимости α = 0.05, для проверки полученных диаграмм. Используем тесты Шапиро, ДАгостино, Андерсона\n"
   ]
  },
  {
   "cell_type": "code",
   "execution_count": null,
   "id": "ts4fHhyu23-Q",
   "metadata": {
    "id": "ts4fHhyu23-Q"
   },
   "outputs": [],
   "source": [
    "from scipy.stats import shapiro, normaltest, anderson\n",
    "tests = {\"Shapiro\" : shapiro,\n",
    " \"DAgostino\" : normaltest,\n",
    " \"Anderson\" : anderson, }\n",
    "def test_gipothesys(label, alfa=0.05):\n",
    "  for test_name, test_f in tests.items():\n",
    "    result = test_f(label)\n",
    "    if test_name == 'Anderson':\n",
    "      statistic = result[0]\n",
    "      answer = 'отклоняется' if statistic > result[1][2] else 'не отклоняется'\n",
    "      print(\"\\t Гипотеза {} {}, статистика={:3f}\".format(answer, test_name, statistic))\n",
    "    else:\n",
    "      p_value = result[1]\n",
    "      answer = 'не отклоняется' if p_value > alfa else 'отклоняется'\n",
    "      print(\"\\t Гипотеза {} {}, p-value={:3f}\".format(answer, test_name, p_value))\n"
   ]
  },
  {
   "cell_type": "code",
   "execution_count": null,
   "id": "3ECAXYy25HYL",
   "metadata": {
    "colab": {
     "base_uri": "https://localhost:8080/"
    },
    "id": "3ECAXYy25HYL",
    "outputId": "e841732f-f455-4647-fbe4-5d792dbf49d7"
   },
   "outputs": [],
   "source": [
    "stocks_names = [58, 41, 15, 39, 34]\n",
    "stocks = ['SINGULUS TECHNOL. EO 1,Industrial', 'LINDE PLC EO 0,001,Chemicals', 'DELTICOM AG  NA O.N.,Retail', 'LEG IMMOBILIEN SE,Financial Services', 'HEIDELBERGCEMENT AG O.N.,Construction']\n",
    "print('Доходности:\\n\\n')\n",
    "k = 0\n",
    "for label in stocks_names:\n",
    " print('\\n', stocks[k], ':\\n')\n",
    " k += 1\n",
    " test_gipothesys(tickers[label]['LogReturn'].dropna())"
   ]
  },
  {
   "cell_type": "markdown",
   "id": "b4b340a9",
   "metadata": {},
   "source": [
    "Результат проверки гипотез статистическими методами совпадает с выводами, полученными при помощи визуального анализа гистограмм - для DELTICOM и HEIDELBERGCEMENT гипотеза о нормальности распределения доходностей не отвергается."
   ]
  },
  {
   "cell_type": "code",
   "execution_count": null,
   "id": "73c0ef12",
   "metadata": {},
   "outputs": [],
   "source": [
    "stocks_names = [58, 41, 15, 39, 34]\n",
    "stocks = ['SINGULUS TECHNOL. EO 1,Industrial', 'LINDE PLC EO 0,001,Chemicals', 'DELTICOM AG  NA O.N.,Retail', 'LEG IMMOBILIEN SE,Financial Services', 'HEIDELBERGCEMENT AG O.N.,Construction']\n",
    "print('Объем продаж:\\n\\n')\n",
    "k = 0\n",
    "for label in stocks_names:\n",
    " print('\\n', stocks[k], ':\\n')\n",
    " k += 1\n",
    " test_gipothesys(tickers[label]['Volume'].dropna())"
   ]
  },
  {
   "cell_type": "markdown",
   "id": "e7f970d1",
   "metadata": {},
   "source": [
    "Результат проверки гипотез статистическими методами совпадает с выводами, полученными при помощи визуального анализа гистограмм - ни одна компания не имеет нормального распределения объема продаж."
   ]
  },
  {
   "cell_type": "markdown",
   "id": "IdaEbtWDyZFm",
   "metadata": {
    "id": "IdaEbtWDyZFm"
   },
   "source": [
    "Как было показано выше, для двух активов: DELTICOM и HEIDELBERGCEMENT гипотеза о нормальности распределения доходностей не отвергается.\\\n",
    "Рассмотрим эти два актива."
   ]
  },
  {
   "cell_type": "code",
   "execution_count": null,
   "id": "boSCsv2deZFb",
   "metadata": {
    "colab": {
     "base_uri": "https://localhost:8080/",
     "height": 405
    },
    "id": "boSCsv2deZFb",
    "outputId": "f7c596fd-6b2f-4feb-f5b7-8a680aa06ff7"
   },
   "outputs": [],
   "source": [
    "from matplotlib.pyplot import figure\n",
    "import matplotlib.pyplot as plt\n",
    "\n",
    "def plot_stock(y):\n",
    " y1 = tickers[15]['LogReturn'].dropna()\n",
    " y2 = tickers[34]['LogReturn'].dropna()\n",
    " x1 = tickers[15]['LogReturn'].dropna().keys()\n",
    "\n",
    " figure(figsize=(20, 6))\n",
    " plt.grid()\n",
    " plt.plot(x1, y1, marker='', color='skyblue', linewidth=2)\n",
    " plt.plot(x1, y2, marker='', color='green', linewidth=2)\n",
    " plt.xlabel('Time')\n",
    " plt.legend()\n",
    "\n",
    "\n",
    "plot_stock('LogReturn')"
   ]
  },
  {
   "cell_type": "code",
   "execution_count": null,
   "id": "Jo6SzM3bEby0",
   "metadata": {
    "colab": {
     "base_uri": "https://localhost:8080/",
     "height": 416
    },
    "id": "Jo6SzM3bEby0",
    "outputId": "17177fca-c63b-4bdb-a9e0-0c1b6716ec5c"
   },
   "outputs": [],
   "source": [
    "from matplotlib.pyplot import figure\n",
    "import matplotlib.pyplot as plt\n",
    "\n",
    "def plot_stock(y):\n",
    " y1 = tickers[15]['Volume'].dropna()\n",
    " y2 = tickers[34]['Volume'].dropna()\n",
    " x1 = tickers[15]['Volume'].dropna().keys()\n",
    " x1 = tickers[15]['Volume'].dropna().keys()\n",
    "\n",
    " figure(figsize=(20, 6))\n",
    " plt.grid()\n",
    " plt.plot(x1, y1, marker='', color='skyblue', linewidth=2)\n",
    " plt.plot(x1, y2, marker='', color='green', linewidth=2)\n",
    " plt.xlabel('Volume')\n",
    " plt.legend()\n",
    "\n",
    "\n",
    "plot_stock('Volume')"
   ]
  },
  {
   "cell_type": "markdown",
   "id": "5_g_9-4dD9go",
   "metadata": {
    "id": "5_g_9-4dD9go"
   },
   "source": [
    "По графику можно заметить, что тренды доходностей и объёмов продаж у обеих компаний не совпадают, не смотря одинаковое распределение. Такие результаты мы можем наблюдать по причине того, что активы взяты из разных секторов. Такие активы могут не иметь общих внешних факторов."
   ]
  },
  {
   "cell_type": "markdown",
   "id": "KXkJp3AjYJmD",
   "metadata": {
    "id": "KXkJp3AjYJmD"
   },
   "source": [
    "# 8. Исследовать зависимости (выборочно) между доходностями различных активов с помощью техники анализа зависимостей.\n"
   ]
  },
  {
   "cell_type": "code",
   "execution_count": null,
   "id": "cfwKUuNsGDcU",
   "metadata": {
    "colab": {
     "base_uri": "https://localhost:8080/"
    },
    "id": "cfwKUuNsGDcU",
    "outputId": "b59420e7-a41f-4221-cc0d-77374a3ac62c"
   },
   "outputs": [],
   "source": [
    "!pip install prettytable\n",
    "from prettytable import PrettyTable\n",
    "def some_print(df):\n",
    " x = PrettyTable()\n",
    " x.field_names = df.columns.tolist()\n",
    " for row in df.values:\n",
    "  x.add_row(row)\n",
    " print(x)\n",
    " return x\n"
   ]
  },
  {
   "cell_type": "markdown",
   "id": "16UgvGdCnUh0",
   "metadata": {
    "id": "16UgvGdCnUh0"
   },
   "source": [
    "Найдём корреляцию между случайными величинами для того, чтобы определить есть ли между ними зависмость"
   ]
  },
  {
   "cell_type": "markdown",
   "id": "P4GUpCxJzMCu",
   "metadata": {
    "id": "P4GUpCxJzMCu"
   },
   "source": [
    "Анализ зависимости доходностей у активов из одного производственного сектора:"
   ]
  },
  {
   "cell_type": "code",
   "execution_count": null,
   "id": "h0NYp5JoIV9g",
   "metadata": {
    "colab": {
     "base_uri": "https://localhost:8080/",
     "height": 419
    },
    "id": "h0NYp5JoIV9g",
    "outputId": "55c07962-addd-4c2b-c7c9-bf45b98a3c3a"
   },
   "outputs": [],
   "source": [
    "import numpy as np\n",
    "\n",
    "stock2 = tickers[39]['LogReturn'].dropna()\n",
    "stock1 = tickers[73]['LogReturn'].dropna()\n",
    "if (len(stock1) > len(stock2)):\n",
    "  stock1 = stock1[:len(stock2)]\n",
    "if (len(stock2) > len(stock1)):\n",
    "  stock2 = stock2[:len(stock1)]\n",
    "\n",
    "keys = ['LEG IMMOBILIEN SE,Financial Services', 'GSW IMMOBILIEN AG,Financial Services']\n",
    "if stock1.shape != stock2.shape:\n",
    "  new_size = stock1.shape[0]\n",
    "  stock1 = stock1[:new_size]\n",
    "  stock2 = stock2[:new_size]\n",
    "concat_pd = pd.concat([stock1, stock2], axis=1, sort=False, keys=keys)\n",
    "corr = concat_pd.corr()\n",
    "corr_value = np.corrcoef(stock1,stock2)[0][1]\n",
    "\n",
    "plt.grid()\n",
    "plt.scatter(stock1, stock2,c = 'blue', edgecolors='black')\n",
    "plt.xlabel(keys[0])\n",
    "plt.ylabel(keys[1])\n",
    "plt.title('LEG IMMOBILIEN SE,Financial Services'+' and '+'GSW IMMOBILIEN AG,Financial Services', size=15)\n",
    "plt.show()\n",
    "some_print(corr)\n",
    "print(f'Коэффициент корреляции между LEG IMMOBILIEN SE,Financial Services  и GSW IMMOBILIEN AG,Financial Services  равен {round(corr_value, 3)}')"
   ]
  },
  {
   "cell_type": "markdown",
   "id": "XJs0ATT_oJCx",
   "metadata": {
    "id": "XJs0ATT_oJCx"
   },
   "source": [
    "Коэфициент корреляции 0.613 свидетельствует о линейной зависимости. что подтверждается графиком.\n",
    "Активы LEG IMMOBILIEN SE,Financial Services и GSW IMMOBILIEN AG,Financial Services из финансового производственного сектора зависимы между собой."
   ]
  },
  {
   "cell_type": "code",
   "execution_count": null,
   "id": "22XE9nmEMzjJ",
   "metadata": {
    "colab": {
     "base_uri": "https://localhost:8080/",
     "height": 419
    },
    "id": "22XE9nmEMzjJ",
    "outputId": "2c7337c5-5de1-4f7a-c7e4-bb220e855f94"
   },
   "outputs": [],
   "source": [
    "import numpy as np\n",
    "\n",
    "stock2 = tickers[41]['LogReturn'].dropna()\n",
    "stock1 = tickers[79]['LogReturn'].dropna()\n",
    "if (len(stock1) > len(stock2)):\n",
    "  stock1 = stock1[:len(stock2)]\n",
    "if (len(stock2) > len(stock1)):\n",
    "  stock2 = stock2[:len(stock1)]\n",
    "\n",
    "keys = ['LINDE PLC EO 0,001,Chemicals,Industrial', 'SIMONA AG O.N.,Chemicals']\n",
    "if stock1.shape != stock2.shape:\n",
    "  new_size = stock1.shape[0]\n",
    "  stock1 = stock1[:new_size]\n",
    "  stock2 = stock2[:new_size]\n",
    "concat_pd = pd.concat([stock1, stock2], axis=1, sort=False, keys=keys)\n",
    "corr = concat_pd.corr()\n",
    "corr_value = np.corrcoef(stock1,stock2)[0][1]\n",
    "\n",
    "plt.grid()\n",
    "plt.scatter(stock1, stock2,c = 'blue', edgecolors='black')\n",
    "plt.xlabel(keys[0])\n",
    "plt.ylabel(keys[1])\n",
    "plt.title('LINDE PLC EO 0,001,Chemicals,Industrial'+' and '+'SIMONA AG O.N.,Chemicals', size=15)\n",
    "plt.show()\n",
    "some_print(corr)\n",
    "print(f'Коэффициент корреляции между 4LINDE PLC EO 0,001,Chemicals,Industrial  и SIMONA AG O.N.,Chemicals  равен {round(corr_value, 3)}')"
   ]
  },
  {
   "cell_type": "markdown",
   "id": "B9oc-6iFoNCA",
   "metadata": {
    "id": "B9oc-6iFoNCA"
   },
   "source": [
    "Коэфициент корреляции 0.414 > 0, что говорит о прямой линейной зависимости. что подтверждается графиком.\n",
    "Активы LINDE PLC EO 0,001,Chemicals,Industrial и SIMONA AG O.N.,Chemicals из сектора производства химикатов зависимы между собой."
   ]
  },
  {
   "cell_type": "code",
   "execution_count": null,
   "id": "8u0aC3KrNJnP",
   "metadata": {
    "colab": {
     "base_uri": "https://localhost:8080/",
     "height": 419
    },
    "id": "8u0aC3KrNJnP",
    "outputId": "1e820a22-bb42-4ddf-81a7-1c8f97d09ff3"
   },
   "outputs": [],
   "source": [
    "import numpy as np\n",
    "\n",
    "stock2 = tickers[20]['LogReturn'].dropna()\n",
    "stock1 = tickers[46]['LogReturn'].dropna()\n",
    "if (len(stock1) > len(stock2)):\n",
    "  stock1 = stock1[:len(stock2)]\n",
    "if (len(stock2) > len(stock1)):\n",
    "  stock2 = stock2[:len(stock1)]\n",
    "\n",
    "keys = ['DMG MORI AG O.N.,Industrial', 'MTU AERO ENGINES NA O.N.,Industrial']\n",
    "if stock1.shape != stock2.shape:\n",
    "  new_size = stock1.shape[0]\n",
    "  stock1 = stock1[:new_size]\n",
    "  stock2 = stock2[:new_size]\n",
    "concat_pd = pd.concat([stock1, stock2], axis=1, sort=False, keys=keys)\n",
    "corr = concat_pd.corr()\n",
    "corr_value = np.corrcoef(stock1,stock2)[0][1]\n",
    "\n",
    "plt.grid()\n",
    "plt.scatter(stock1, stock2,c = 'blue', edgecolors='black')\n",
    "plt.xlabel(keys[0])\n",
    "plt.ylabel(keys[1])\n",
    "plt.title('DMG MORI AG O.N.,Industrial'+' and '+'MTU AERO ENGINES NA O.N.,Industrial', size=15)\n",
    "plt.show()\n",
    "some_print(corr)\n",
    "print(f'Коэффициент корреляции между DMG MORI AG O.N.,Industrial  и MTU AERO ENGINES NA O.N.,Industrial  равен {round(corr_value, 3)}')"
   ]
  },
  {
   "cell_type": "markdown",
   "id": "Q39aJ2o9n0G3",
   "metadata": {
    "id": "Q39aJ2o9n0G3"
   },
   "source": [
    "Коэфициент корреляции 0.793 свидетельствует о сильной линейной зависимости. что подтверждается графиком.\n",
    "Активы DMG MORI AG O.N.,Industrial и MTU AERO ENGINES NA O.N.,Industrial из промышленного производственного сектора зависимы между собой.\n"
   ]
  },
  {
   "cell_type": "code",
   "execution_count": null,
   "id": "fLyxJHwZNpDN",
   "metadata": {
    "colab": {
     "base_uri": "https://localhost:8080/",
     "height": 419
    },
    "id": "fLyxJHwZNpDN",
    "outputId": "2958fa5f-de0f-429c-97fc-4a9328dcf493"
   },
   "outputs": [],
   "source": [
    "import numpy as np\n",
    "\n",
    "stock2 = tickers[15]['LogReturn'].dropna()\n",
    "stock1 = tickers[52]['LogReturn'].dropna()\n",
    "if (len(stock1) > len(stock2)):\n",
    "  stock1 = stock1[:len(stock2)]\n",
    "if (len(stock2) > len(stock1)):\n",
    "  stock2 = stock2[:len(stock1)]\n",
    "\n",
    "keys = ['DELTICOM AG  NA O.N.,Retail', 'TAKKT AG O.N.,Retail']\n",
    "if stock1.shape != stock2.shape:\n",
    "  new_size = stock1.shape[0]\n",
    "  stock1 = stock1[:new_size]\n",
    "  stock2 = stock2[:new_size]\n",
    "concat_pd = pd.concat([stock1, stock2], axis=1, sort=False, keys=keys)\n",
    "corr = concat_pd.corr()\n",
    "corr_value = np.corrcoef(stock1,stock2)[0][1]\n",
    "\n",
    "plt.grid()\n",
    "plt.scatter(stock1, stock2,c = 'blue', edgecolors='black')\n",
    "plt.xlabel(keys[0])\n",
    "plt.ylabel(keys[1])\n",
    "plt.title('DELTICOM AG  NA O.N.,Retail'+' and '+'TAKKT AG O.N.,Retail', size=15)\n",
    "plt.show()\n",
    "some_print(corr)\n",
    "print(f'Коэффициент корреляции между DELTICOM AG  NA O.N.,Retail  и TAKKT AG O.N.,Retail  равен {round(corr_value, 3)}')"
   ]
  },
  {
   "cell_type": "markdown",
   "id": "hTjc81xooE8b",
   "metadata": {
    "id": "hTjc81xooE8b"
   },
   "source": [
    "Коэфициент корреляции 0.792 свидетельствует о сильной линейной зависимости. что подтверждается графиком.\n",
    "Активы DELTICOM AG  NA O.N.,Retail и TAKKT AG O.N.,Retail из сектора розничной торговли зависимы между собой."
   ]
  },
  {
   "cell_type": "markdown",
   "id": "74bOdYd8YSol",
   "metadata": {
    "id": "74bOdYd8YSol"
   },
   "source": [
    "Анализ зависимости доходностей у активов из разных производственных секторов:"
   ]
  },
  {
   "cell_type": "code",
   "execution_count": null,
   "id": "rQIS9si7YErX",
   "metadata": {
    "colab": {
     "base_uri": "https://localhost:8080/",
     "height": 419
    },
    "id": "rQIS9si7YErX",
    "outputId": "8c9b5034-1739-48fc-94bd-8edd1ef06bf7"
   },
   "outputs": [],
   "source": [
    "import numpy as np\n",
    "\n",
    "stock2 = tickers[1]['LogReturn'].dropna()\n",
    "stock1 = tickers[34]['LogReturn'].dropna()\n",
    "if (len(stock1) > len(stock2)):\n",
    "  stock1 = stock1[:len(stock2)]\n",
    "if (len(stock2) > len(stock1)):\n",
    "  stock2 = stock2[:len(stock1)]\n",
    "\n",
    "keys = ['3U HOLDING AG,Industrial', 'HEIDELBERGCEMENT AG O.N.,Construction']\n",
    "if stock1.shape != stock2.shape:\n",
    "  new_size = stock1.shape[0]\n",
    "  stock1 = stock1[:new_size]\n",
    "  stock2 = stock2[:new_size]\n",
    "concat_pd = pd.concat([stock1, stock2], axis=1, sort=False, keys=keys)\n",
    "corr = concat_pd.corr()\n",
    "corr_value = np.corrcoef(stock1,stock2)[0][1]\n",
    "\n",
    "plt.grid()\n",
    "plt.scatter(stock1, stock2,c = 'blue', edgecolors='black')\n",
    "plt.xlabel(keys[0])\n",
    "plt.ylabel(keys[1])\n",
    "plt.title('3U HOLDING AG,Industrial'+' and '+'HEIDELBERGCEMENT AG O.N.,Construction', size=15)\n",
    "plt.show()\n",
    "some_print(corr)\n",
    "print(f'Коэффициент корреляции между 3U HOLDING AG,Industrial  и HEIDELBERGCEMENT AG O.N.,Construction  равен {round(corr_value, 3)}')"
   ]
  },
  {
   "cell_type": "markdown",
   "id": "xsiC0KS5tKTV",
   "metadata": {
    "id": "xsiC0KS5tKTV"
   },
   "source": [
    "Коэффициент корреляции близок к нулю. Это говорить об отсутствии зависимость между активами 3U HOLDING AG,Industrial промышленного производства и HEIDELBERGCEMENT AG O.N.,Construction из строительного сектора. Возможно отсутствуют факторы одновременно влияющие на два этих сектора."
   ]
  },
  {
   "cell_type": "code",
   "execution_count": null,
   "id": "CG0ylBjNb0Bp",
   "metadata": {
    "colab": {
     "base_uri": "https://localhost:8080/",
     "height": 419
    },
    "id": "CG0ylBjNb0Bp",
    "outputId": "fa3df15b-5300-4735-b6b8-609cc1d04a81"
   },
   "outputs": [],
   "source": [
    "import numpy as np\n",
    "\n",
    "stock2 = tickers[15]['LogReturn'].dropna()\n",
    "stock1 = tickers[2]['LogReturn'].dropna()\n",
    "if (len(stock1) > len(stock2)):\n",
    "  stock1 = stock1[:len(stock2)]\n",
    "if (len(stock2) > len(stock1)):\n",
    "  stock2 = stock2[:len(stock1)]\n",
    "\n",
    "keys = ['DEX,DELTICOM AG  NA O.N.,Retail', '4SC AG,Pharma']\n",
    "if stock1.shape != stock2.shape:\n",
    "  new_size = stock1.shape[0]\n",
    "  stock1 = stock1[:new_size]\n",
    "  stock2 = stock2[:new_size]\n",
    "concat_pd = pd.concat([stock1, stock2], axis=1, sort=False, keys=keys)\n",
    "corr = concat_pd.corr()\n",
    "corr_value = np.corrcoef(stock1,stock2)[0][1]\n",
    "\n",
    "plt.grid()\n",
    "plt.scatter(stock1, stock2,c = 'blue', edgecolors='black')\n",
    "plt.xlabel(keys[0])\n",
    "plt.ylabel(keys[1])\n",
    "plt.title('DEX,DELTICOM AG  NA O.N.,Retail'+' and '+'4SC AG,Pharma', size=15)\n",
    "plt.show()\n",
    "some_print(corr)\n",
    "print(f'Коэффициент корреляции между DEX,DELTICOM AG  NA O.N.,Retail  и 4SC AG,Pharma  равен {round(corr_value, 3)}')"
   ]
  },
  {
   "cell_type": "markdown",
   "id": "MJ38z7Kzuxmh",
   "metadata": {
    "id": "MJ38z7Kzuxmh"
   },
   "source": [
    "Коэффициент корреляции близок к нулю, активы DEX,DELTICOM AG  NA O.N.,Retail и 4SC AG,Pharma независимы друг от друга."
   ]
  },
  {
   "cell_type": "code",
   "execution_count": null,
   "id": "YQMMOcY0b7bh",
   "metadata": {
    "colab": {
     "base_uri": "https://localhost:8080/",
     "height": 419
    },
    "id": "YQMMOcY0b7bh",
    "outputId": "ce50e92f-0018-4ad5-bdfb-ea4bae7c105b"
   },
   "outputs": [],
   "source": [
    "import numpy as np\n",
    "\n",
    "stock2 = tickers[21]['LogReturn'].dropna()\n",
    "stock1 = tickers[39]['LogReturn'].dropna()\n",
    "if (len(stock1) > len(stock2)):\n",
    "  stock1 = stock1[:len(stock2)]\n",
    "if (len(stock2) > len(stock1)):\n",
    "  stock2 = stock2[:len(stock1)]\n",
    "\n",
    "keys = ['DT.PFANDBRIEFBK AG,Banks', 'LEG IMMOBILIEN SE,Financial Services']\n",
    "if stock1.shape != stock2.shape:\n",
    "  new_size = stock1.shape[0]\n",
    "  stock1 = stock1[:new_size]\n",
    "  stock2 = stock2[:new_size]\n",
    "concat_pd = pd.concat([stock1, stock2], axis=1, sort=False, keys=keys)\n",
    "corr = concat_pd.corr()\n",
    "corr_value = np.corrcoef(stock1,stock2)[0][1]\n",
    "\n",
    "plt.grid()\n",
    "plt.scatter(stock1, stock2,c = 'blue', edgecolors='black')\n",
    "plt.xlabel(keys[0])\n",
    "plt.ylabel(keys[1])\n",
    "plt.title('DT.PFANDBRIEFBK AG,Banks'+' and '+'LEG IMMOBILIEN SE,Financial Services', size=15)\n",
    "plt.show()\n",
    "some_print(corr)\n",
    "print(f'Коэффициент корреляции между DT.PFANDBRIEFBK AG,Banks  и LEG IMMOBILIEN SE,Financial Services  равен {round(corr_value, 3)}')"
   ]
  },
  {
   "cell_type": "markdown",
   "id": "HVsO4fXvr1to",
   "metadata": {
    "id": "HVsO4fXvr1to"
   },
   "source": [
    "Коэфициент корреляции 0.555 свидетельствует о наличие линейной зависимости, показанной на графике.\n",
    "Активы DT.PFANDBRIEFBK AG,Banks и LEG IMMOBILIEN SE,Financial Services из из разных производственных секторов зависимы между собой. Этот факт можно объяснить наличием влияния сфер\n",
    "друг на друга, общих факторов из вне, так как финансовая сфера и банки тесно связаны друг с другом\n"
   ]
  },
  {
   "cell_type": "code",
   "execution_count": null,
   "id": "SmNMQmYnci8t",
   "metadata": {
    "colab": {
     "base_uri": "https://localhost:8080/",
     "height": 419
    },
    "id": "SmNMQmYnci8t",
    "outputId": "18393c11-f8c2-47b8-e6f9-86d97733abdd"
   },
   "outputs": [],
   "source": [
    "import numpy as np\n",
    "\n",
    "stock2 = tickers[84]['LogReturn'].dropna()\n",
    "stock1 = tickers[41]['LogReturn'].dropna()\n",
    "if (len(stock1) > len(stock2)):\n",
    "  stock1 = stock1[:len(stock2)]\n",
    "if (len(stock2) > len(stock1)):\n",
    "  stock2 = stock2[:len(stock1)]\n",
    "\n",
    "keys = ['DATRON AG INH.O.N.,Industrial', 'LINDE PLC EO 0,001,Chemicals']\n",
    "if stock1.shape != stock2.shape:\n",
    "  new_size = stock1.shape[0]\n",
    "  stock1 = stock1[:new_size]\n",
    "  stock2 = stock2[:new_size]\n",
    "concat_pd = pd.concat([stock1, stock2], axis=1, sort=False, keys=keys)\n",
    "corr = concat_pd.corr()\n",
    "corr_value = np.corrcoef(stock1,stock2)[0][1]\n",
    "\n",
    "plt.grid()\n",
    "plt.scatter(stock1, stock2,c = 'blue', edgecolors='black')\n",
    "plt.xlabel(keys[0])\n",
    "plt.ylabel(keys[1])\n",
    "plt.title('DATRON AG INH.O.N.,Industrial'+' and '+'LINDE PLC EO 0,001,Chemicals', size=15)\n",
    "plt.show()\n",
    "some_print(corr)\n",
    "print(f'Коэффициент корреляции между DATRON AG INH.O.N.,Industrial  и LINDE PLC EO 0,001,Chemicals  равен {round(corr_value, 3)}')"
   ]
  },
  {
   "cell_type": "markdown",
   "id": "7DO6Hs2VuTny",
   "metadata": {
    "id": "7DO6Hs2VuTny"
   },
   "source": [
    "Активы DATRON AG INH.O.N.,Industrial и LINDE PLC EO 0,001,Chemicals из разных производственных секторов зависимы между собой."
   ]
  },
  {
   "cell_type": "markdown",
   "id": "szZVdajEhXdp",
   "metadata": {
    "id": "szZVdajEhXdp"
   },
   "source": [
    "Анализ зависимости объема продаж с доходностями у одного актива"
   ]
  },
  {
   "cell_type": "code",
   "execution_count": null,
   "id": "6Yg5FSIGhGDb",
   "metadata": {
    "colab": {
     "base_uri": "https://localhost:8080/",
     "height": 419
    },
    "id": "6Yg5FSIGhGDb",
    "outputId": "b2dfe5eb-f8ff-4f9f-ee46-d7528bd024e8"
   },
   "outputs": [],
   "source": [
    "import numpy as np\n",
    "\n",
    "log = tickers[58]['LogReturn'].dropna()\n",
    "volume = tickers[58]['Volume'].dropna()\n",
    "if (len(log) > len(volume)):\n",
    "  log = log[:len(volume)]\n",
    "if (len(volume) > len(log)):\n",
    "  volume = volume[:len(log)]\n",
    "keys = ['LogReturn', 'Volume']\n",
    "if volume.shape != log.shape:\n",
    "  new_size = volume.shape[0]\n",
    "  volume = volume[:new_size]\n",
    "  log = log[:new_size]\n",
    "concat_pd = pd.concat([volume, log], axis=1, sort=False, keys=keys)\n",
    "corr = concat_pd.corr()\n",
    "corr_value = np.corrcoef(volume,log)[0][1]\n",
    "\n",
    "plt.grid()\n",
    "plt.scatter(volume, log,c = 'blue', edgecolors='black')\n",
    "plt.xlabel(keys[0])\n",
    "plt.ylabel(keys[1])\n",
    "plt.title('LogReturn and Volume', size=15)\n",
    "plt.show()\n",
    "some_print(corr)\n",
    "print(f'Коэффициент корреляции между доходностью и объёмом продаж актива SINGULUS TECHNOL. EO 1,Industrial равен {round(corr_value, 3)}')"
   ]
  },
  {
   "cell_type": "markdown",
   "id": "pLxmHyKfvIJo",
   "metadata": {
    "id": "pLxmHyKfvIJo"
   },
   "source": [
    "Коэффициент корреляции отрицательный и близок к нулю, что говорит об отсутствие зависимости между доходностями и объемом продаж у актива.\n"
   ]
  },
  {
   "cell_type": "code",
   "execution_count": null,
   "id": "crHX8VZ-i0w4",
   "metadata": {
    "colab": {
     "base_uri": "https://localhost:8080/",
     "height": 419
    },
    "id": "crHX8VZ-i0w4",
    "outputId": "6dce092d-8110-4d02-859d-fe6d0d657244"
   },
   "outputs": [],
   "source": [
    "import numpy as np\n",
    "\n",
    "log = tickers[15]['LogReturn'].dropna()\n",
    "volume = tickers[15]['Volume'].dropna()\n",
    "if (len(log) > len(volume)):\n",
    "  log = log[:len(volume)]\n",
    "if (len(volume) > len(log)):\n",
    "  volume = volume[:len(log)]\n",
    "keys = ['LogReturn', 'Volume']\n",
    "if volume.shape != log.shape:\n",
    "  new_size = volume.shape[0]\n",
    "  volume = volume[:new_size]\n",
    "  log = log[:new_size]\n",
    "concat_pd = pd.concat([volume, log], axis=1, sort=False, keys=keys)\n",
    "corr = concat_pd.corr()\n",
    "corr_value = np.corrcoef(volume,log)[0][1]\n",
    "\n",
    "plt.grid()\n",
    "plt.scatter(volume, log,c = 'blue', edgecolors='black')\n",
    "plt.xlabel(keys[0])\n",
    "plt.ylabel(keys[1])\n",
    "plt.title('LogReturn and Volume', size=15)\n",
    "plt.show()\n",
    "some_print(corr)\n",
    "print(f'Коэффициент корреляции между доходностью и объёмом продаж актива DELTICOM AG  NA O.N.,Retail равен {round(corr_value, 3)}')"
   ]
  },
  {
   "cell_type": "markdown",
   "id": "xhKQVRXNvQ0d",
   "metadata": {
    "id": "xhKQVRXNvQ0d"
   },
   "source": [
    "Коэффициент корреляции положительный и близок к нулю, что говорит об отсутствие зависимости между доходностями и объемом продаж у актива.\n"
   ]
  },
  {
   "cell_type": "code",
   "execution_count": null,
   "id": "SO5SzMhhi4sC",
   "metadata": {
    "colab": {
     "base_uri": "https://localhost:8080/",
     "height": 419
    },
    "id": "SO5SzMhhi4sC",
    "outputId": "1ee6525d-2253-4756-d607-504df6900316"
   },
   "outputs": [],
   "source": [
    "import numpy as np\n",
    "\n",
    "log = tickers[39]['LogReturn'].dropna()\n",
    "volume = tickers[39]['Volume'].dropna()\n",
    "if (len(log) > len(volume)):\n",
    "  log = log[:len(volume)]\n",
    "if (len(volume) > len(log)):\n",
    "  volume = volume[:len(log)]\n",
    "keys = ['LogReturn', 'Volume']\n",
    "if volume.shape != log.shape:\n",
    "  new_size = volume.shape[0]\n",
    "  volume = volume[:new_size]\n",
    "  log = log[:new_size]\n",
    "concat_pd = pd.concat([volume, log], axis=1, sort=False, keys=keys)\n",
    "corr = concat_pd.corr()\n",
    "corr_value = np.corrcoef(volume,log)[0][1]\n",
    "\n",
    "plt.grid()\n",
    "plt.scatter(volume, log,c = 'blue', edgecolors='black')\n",
    "plt.xlabel(keys[0])\n",
    "plt.ylabel(keys[1])\n",
    "plt.title('LogReturn and Volume', size=15)\n",
    "plt.show()\n",
    "some_print(corr)\n",
    "print(f'Коэффициент корреляции между доходностью и объёмом продаж актива LEG IMMOBILIEN SE,Financial Services равен {round(corr_value, 3)}')"
   ]
  },
  {
   "cell_type": "code",
   "execution_count": null,
   "id": "gtapvQN1i8ex",
   "metadata": {
    "colab": {
     "base_uri": "https://localhost:8080/",
     "height": 419
    },
    "id": "gtapvQN1i8ex",
    "outputId": "ea368bb8-9f84-46fb-843b-75217d0a0b51"
   },
   "outputs": [],
   "source": [
    "import numpy as np\n",
    "\n",
    "log = tickers[34]['LogReturn'].dropna()\n",
    "volume = tickers[34]['Volume'].dropna()\n",
    "if (len(log) > len(volume)):\n",
    "  log = log[:len(volume)]\n",
    "if (len(volume) > len(log)):\n",
    "  volume = volume[:len(log)]\n",
    "keys = ['LogReturn', 'Volume']\n",
    "if volume.shape != log.shape:\n",
    "  new_size = volume.shape[0]\n",
    "  volume = volume[:new_size]\n",
    "  log = log[:new_size]\n",
    "concat_pd = pd.concat([volume, log], axis=1, sort=False, keys=keys)\n",
    "corr = concat_pd.corr()\n",
    "corr_value = np.corrcoef(volume,log)[0][1]\n",
    "\n",
    "plt.grid()\n",
    "plt.scatter(volume, log,c = 'blue', edgecolors='black')\n",
    "plt.xlabel(keys[0])\n",
    "plt.ylabel(keys[1])\n",
    "plt.title('LogReturn and Volume', size=15)\n",
    "plt.show()\n",
    "some_print(corr)\n",
    "print(f'Коэффициент корреляции между доходностью и объёмом продаж актива HEIDELBERGCEMENT AG O.N.,Construction равен {round(corr_value, 3)}')"
   ]
  },
  {
   "cell_type": "markdown",
   "id": "hvyPSKDtvXpZ",
   "metadata": {
    "id": "hvyPSKDtvXpZ"
   },
   "source": [
    "Коэффициенты корреляции отрицательные и близки к нулю, что говорит об отсутствие зависимости между доходностями и объемом продаж у активов.\n"
   ]
  },
  {
   "cell_type": "code",
   "execution_count": null,
   "id": "UI86VD9lkMJv",
   "metadata": {
    "id": "UI86VD9lkMJv"
   },
   "outputs": [],
   "source": []
  }
 ],
 "metadata": {
  "colab": {
   "collapsed_sections": [
    "KXkJp3AjYJmD"
   ],
   "name": "finance_lab_1.ipynb",
   "provenance": []
  },
  "kernelspec": {
   "display_name": "Python 3 (ipykernel)",
   "language": "python",
   "name": "python3"
  },
  "language_info": {
   "codemirror_mode": {
    "name": "ipython",
    "version": 3
   },
   "file_extension": ".py",
   "mimetype": "text/x-python",
   "name": "python",
   "nbconvert_exporter": "python",
   "pygments_lexer": "ipython3",
   "version": "3.9.6"
  }
 },
 "nbformat": 4,
 "nbformat_minor": 5
}
