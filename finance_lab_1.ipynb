{
 "cells": [
  {
   "cell_type": "markdown",
   "id": "0fd9dfad",
   "metadata": {},
   "source": [
    "# 1. Собрать данные по дневным ценам активов (акций) и дневным объемам продаж на заданном фондовом рынке за указанный период. Добавить (если нет) данные по индексу рынка."
   ]
  },
  {
   "cell_type": "code",
   "execution_count": 1,
   "id": "4f0374d0",
   "metadata": {},
   "outputs": [],
   "source": [
    "import pandas as pd\n",
    "import yfinance as yf\n",
    "from yahoofinancials import YahooFinancials"
   ]
  },
  {
   "cell_type": "markdown",
   "id": "9ecb10dd",
   "metadata": {},
   "source": [
    "**Скачал список компаний Франкфуртской биржи**"
   ]
  },
  {
   "cell_type": "raw",
   "id": "6b8db071",
   "metadata": {},
   "source": [
    "companies_list_file_name = 'list.xlsx'"
   ]
  },
  {
   "cell_type": "raw",
   "id": "0c1a757a",
   "metadata": {},
   "source": [
    "companies_list = pd.read_excel(companies_list_file_name)\n",
    "companies_list"
   ]
  },
  {
   "cell_type": "code",
   "execution_count": 2,
   "id": "d9d1df8c",
   "metadata": {},
   "outputs": [],
   "source": [
    "start_date = '2019-01-02'\n",
    "end_date = '2020-01-01'\n",
    "\n",
    "def download_ticker(ticker, start=start_date, end=end_date):\n",
    "    return yf.download(ticker, start, end)"
   ]
  },
  {
   "cell_type": "markdown",
   "id": "1efcafba",
   "metadata": {},
   "source": [
    "**Индекс DAX представляет собой главный индекс Франфуртской биржи.  Индекс вычисляется как среднее взвешенное по капитализации значение цен акций крупнейших акционерных компаний Германии (при этом капитализация рассчитывается лишь на основе акций, находящихся в свободном обращении). Индекс учитывает также полученные в виде дивидендов доходы по акциям, предполагая, что дивиденды реинвестируются в акцию, по которой был получен данный дивиденд. Таким образом, индекс отражает суммарный доход по капиталу.**"
   ]
  },
  {
   "cell_type": "code",
   "execution_count": 3,
   "id": "84aec954",
   "metadata": {},
   "outputs": [
    {
     "name": "stdout",
     "output_type": "stream",
     "text": [
      "[*********************100%***********************]  1 of 1 completed\n"
     ]
    },
    {
     "data": {
      "text/html": [
       "<div>\n",
       "<style scoped>\n",
       "    .dataframe tbody tr th:only-of-type {\n",
       "        vertical-align: middle;\n",
       "    }\n",
       "\n",
       "    .dataframe tbody tr th {\n",
       "        vertical-align: top;\n",
       "    }\n",
       "\n",
       "    .dataframe thead th {\n",
       "        text-align: right;\n",
       "    }\n",
       "</style>\n",
       "<table border=\"1\" class=\"dataframe\">\n",
       "  <thead>\n",
       "    <tr style=\"text-align: right;\">\n",
       "      <th></th>\n",
       "      <th>Adj Close</th>\n",
       "      <th>Volume</th>\n",
       "    </tr>\n",
       "    <tr>\n",
       "      <th>Date</th>\n",
       "      <th></th>\n",
       "      <th></th>\n",
       "    </tr>\n",
       "  </thead>\n",
       "  <tbody>\n",
       "    <tr>\n",
       "      <th>2019-01-02</th>\n",
       "      <td>10580.190430</td>\n",
       "      <td>79626700</td>\n",
       "    </tr>\n",
       "    <tr>\n",
       "      <th>2019-01-03</th>\n",
       "      <td>10416.660156</td>\n",
       "      <td>84733800</td>\n",
       "    </tr>\n",
       "    <tr>\n",
       "      <th>2019-01-04</th>\n",
       "      <td>10767.690430</td>\n",
       "      <td>95339500</td>\n",
       "    </tr>\n",
       "    <tr>\n",
       "      <th>2019-01-07</th>\n",
       "      <td>10747.809570</td>\n",
       "      <td>71151400</td>\n",
       "    </tr>\n",
       "    <tr>\n",
       "      <th>2019-01-08</th>\n",
       "      <td>10803.980469</td>\n",
       "      <td>93672200</td>\n",
       "    </tr>\n",
       "    <tr>\n",
       "      <th>...</th>\n",
       "      <td>...</td>\n",
       "      <td>...</td>\n",
       "    </tr>\n",
       "    <tr>\n",
       "      <th>2019-12-19</th>\n",
       "      <td>13211.959961</td>\n",
       "      <td>84018200</td>\n",
       "    </tr>\n",
       "    <tr>\n",
       "      <th>2019-12-20</th>\n",
       "      <td>13318.900391</td>\n",
       "      <td>170723200</td>\n",
       "    </tr>\n",
       "    <tr>\n",
       "      <th>2019-12-23</th>\n",
       "      <td>13300.980469</td>\n",
       "      <td>56215400</td>\n",
       "    </tr>\n",
       "    <tr>\n",
       "      <th>2019-12-27</th>\n",
       "      <td>13337.110352</td>\n",
       "      <td>43758600</td>\n",
       "    </tr>\n",
       "    <tr>\n",
       "      <th>2019-12-30</th>\n",
       "      <td>13249.009766</td>\n",
       "      <td>31427400</td>\n",
       "    </tr>\n",
       "  </tbody>\n",
       "</table>\n",
       "<p>251 rows × 2 columns</p>\n",
       "</div>"
      ],
      "text/plain": [
       "               Adj Close     Volume\n",
       "Date                               \n",
       "2019-01-02  10580.190430   79626700\n",
       "2019-01-03  10416.660156   84733800\n",
       "2019-01-04  10767.690430   95339500\n",
       "2019-01-07  10747.809570   71151400\n",
       "2019-01-08  10803.980469   93672200\n",
       "...                  ...        ...\n",
       "2019-12-19  13211.959961   84018200\n",
       "2019-12-20  13318.900391  170723200\n",
       "2019-12-23  13300.980469   56215400\n",
       "2019-12-27  13337.110352   43758600\n",
       "2019-12-30  13249.009766   31427400\n",
       "\n",
       "[251 rows x 2 columns]"
      ]
     },
     "execution_count": 3,
     "metadata": {},
     "output_type": "execute_result"
    }
   ],
   "source": [
    "DAX_index = download_ticker('^GDAXI')\n",
    "DAX_index.drop(['Open', 'High', 'Low', 'Close'], axis=1, inplace=True)\n",
    "DAX_index"
   ]
  },
  {
   "cell_type": "markdown",
   "id": "22823586",
   "metadata": {},
   "source": [
    "**Выкачал тикеры, удалил из датафрейма компании которые не скачались. Перекачивать не нужно, сохранено в бинарник.**"
   ]
  },
  {
   "cell_type": "raw",
   "id": "61002aa5",
   "metadata": {},
   "source": [
    "tickers = [None] # None для нормальной адресации - в фрейме с компаниями индексация начинается с единицы\n",
    "failed = []\n",
    "for index, row in companies_list.iterrows():\n",
    "    ticker = str(row['Ticker'])\n",
    "    ticker_data = download_ticker(ticker)\n",
    "    if ticker_data.shape[0] == 0:\n",
    "        failed.append(index)\n",
    "        continue\n",
    "    tickers.append(ticker_data)\n",
    "companies_list = companies_list.drop(failed)\n",
    "companies_list"
   ]
  },
  {
   "cell_type": "code",
   "execution_count": 4,
   "id": "d4b6edf3",
   "metadata": {},
   "outputs": [],
   "source": [
    "import pickle"
   ]
  },
  {
   "cell_type": "code",
   "execution_count": 5,
   "id": "49f5a8a9",
   "metadata": {},
   "outputs": [],
   "source": [
    "companies_dump_file_name = 'companies.p'\n",
    "tickers_dump_file_name = 'tickers.p'"
   ]
  },
  {
   "cell_type": "raw",
   "id": "80308c56",
   "metadata": {},
   "source": [
    "pickle.dump(companies_list, open(companies_dump_file_name, \"wb\"))\n",
    "pickle.dump(tickers, open(tickers_dump_file_name, \"wb\"))"
   ]
  },
  {
   "cell_type": "markdown",
   "id": "e97fc527",
   "metadata": {},
   "source": [
    "**Следующая ячейка загружает обьекты из файлов в память**"
   ]
  },
  {
   "cell_type": "code",
   "execution_count": 6,
   "id": "383bb337",
   "metadata": {},
   "outputs": [],
   "source": [
    "companies_list = pickle.load(open(companies_dump_file_name, \"rb\"))\n",
    "tickers = pickle.load(open(tickers_dump_file_name, \"rb\"))"
   ]
  },
  {
   "cell_type": "code",
   "execution_count": 7,
   "id": "4efe9146",
   "metadata": {},
   "outputs": [],
   "source": [
    "companies_list.drop(['ISIN', 'Country' ,'Instrument Exchange'], axis=1, inplace=True)"
   ]
  },
  {
   "cell_type": "code",
   "execution_count": 8,
   "id": "6f1514eb",
   "metadata": {},
   "outputs": [],
   "source": [
    "for ticker in tickers:\n",
    "    ticker.drop(['Open', 'High', 'Low', 'Close'], axis=1, inplace=True)"
   ]
  },
  {
   "cell_type": "code",
   "execution_count": 9,
   "id": "6a07a74d",
   "metadata": {},
   "outputs": [
    {
     "data": {
      "text/plain": [
       "108"
      ]
     },
     "execution_count": 9,
     "metadata": {},
     "output_type": "execute_result"
    }
   ],
   "source": [
    "len(tickers)"
   ]
  },
  {
   "cell_type": "code",
   "execution_count": 10,
   "id": "3868a6ac",
   "metadata": {},
   "outputs": [
    {
     "data": {
      "text/html": [
       "<div>\n",
       "<style scoped>\n",
       "    .dataframe tbody tr th:only-of-type {\n",
       "        vertical-align: middle;\n",
       "    }\n",
       "\n",
       "    .dataframe tbody tr th {\n",
       "        vertical-align: top;\n",
       "    }\n",
       "\n",
       "    .dataframe thead th {\n",
       "        text-align: right;\n",
       "    }\n",
       "</style>\n",
       "<table border=\"1\" class=\"dataframe\">\n",
       "  <thead>\n",
       "    <tr style=\"text-align: right;\">\n",
       "      <th></th>\n",
       "      <th>Adj Close</th>\n",
       "      <th>Volume</th>\n",
       "    </tr>\n",
       "    <tr>\n",
       "      <th>Date</th>\n",
       "      <th></th>\n",
       "      <th></th>\n",
       "    </tr>\n",
       "  </thead>\n",
       "  <tbody>\n",
       "    <tr>\n",
       "      <th>2019-01-02</th>\n",
       "      <td>62.470619</td>\n",
       "      <td>4549300</td>\n",
       "    </tr>\n",
       "    <tr>\n",
       "      <th>2019-01-03</th>\n",
       "      <td>61.614986</td>\n",
       "      <td>4562200</td>\n",
       "    </tr>\n",
       "    <tr>\n",
       "      <th>2019-01-04</th>\n",
       "      <td>62.461220</td>\n",
       "      <td>4825900</td>\n",
       "    </tr>\n",
       "    <tr>\n",
       "      <th>2019-01-07</th>\n",
       "      <td>65.517059</td>\n",
       "      <td>7630600</td>\n",
       "    </tr>\n",
       "    <tr>\n",
       "      <th>2019-01-08</th>\n",
       "      <td>65.451233</td>\n",
       "      <td>6756000</td>\n",
       "    </tr>\n",
       "    <tr>\n",
       "      <th>...</th>\n",
       "      <td>...</td>\n",
       "      <td>...</td>\n",
       "    </tr>\n",
       "    <tr>\n",
       "      <th>2019-12-24</th>\n",
       "      <td>124.720284</td>\n",
       "      <td>1643400</td>\n",
       "    </tr>\n",
       "    <tr>\n",
       "      <th>2019-12-26</th>\n",
       "      <td>125.050156</td>\n",
       "      <td>2197900</td>\n",
       "    </tr>\n",
       "    <tr>\n",
       "      <th>2019-12-27</th>\n",
       "      <td>125.360641</td>\n",
       "      <td>2233600</td>\n",
       "    </tr>\n",
       "    <tr>\n",
       "      <th>2019-12-30</th>\n",
       "      <td>125.050156</td>\n",
       "      <td>2546500</td>\n",
       "    </tr>\n",
       "    <tr>\n",
       "      <th>2019-12-31</th>\n",
       "      <td>124.390427</td>\n",
       "      <td>4059800</td>\n",
       "    </tr>\n",
       "  </tbody>\n",
       "</table>\n",
       "<p>252 rows × 2 columns</p>\n",
       "</div>"
      ],
      "text/plain": [
       "             Adj Close   Volume\n",
       "Date                           \n",
       "2019-01-02   62.470619  4549300\n",
       "2019-01-03   61.614986  4562200\n",
       "2019-01-04   62.461220  4825900\n",
       "2019-01-07   65.517059  7630600\n",
       "2019-01-08   65.451233  6756000\n",
       "...                ...      ...\n",
       "2019-12-24  124.720284  1643400\n",
       "2019-12-26  125.050156  2197900\n",
       "2019-12-27  125.360641  2233600\n",
       "2019-12-30  125.050156  2546500\n",
       "2019-12-31  124.390427  4059800\n",
       "\n",
       "[252 rows x 2 columns]"
      ]
     },
     "execution_count": 10,
     "metadata": {},
     "output_type": "execute_result"
    }
   ],
   "source": [
    "tickers[0]"
   ]
  },
  {
   "cell_type": "markdown",
   "id": "c30a046a",
   "metadata": {},
   "source": [
    "# 2. Преобразовать данные по ценам в данные по доходностям (используйте логарифмическую доходность). Вычислите оценки ожидаемых доходностей и стандартных отклонений и постройте «карту» активов в системе координат (σ, E)."
   ]
  },
  {
   "cell_type": "markdown",
   "id": "a527b5e4",
   "metadata": {},
   "source": [
    "**По взвешенной цене закрытия считаю логарифмические доходности за периоды.**"
   ]
  },
  {
   "cell_type": "code",
   "execution_count": 11,
   "id": "58b5330c",
   "metadata": {},
   "outputs": [],
   "source": [
    "count = 0\n",
    "for ticker in tickers:\n",
    "    log_returns = []\n",
    "    close_price = ticker['Adj Close']\n",
    "    log_returns.append(None)\n",
    "    for i in range(1, len(close_price)):\n",
    "        log_return = (close_price[i] - close_price[i - 1]) / close_price[i - 1]\n",
    "        log_returns.append(log_return)\n",
    "    ticker['LogReturn'] = log_returns\n",
    "    count += 1"
   ]
  },
  {
   "cell_type": "code",
   "execution_count": 12,
   "id": "6bc01f7f",
   "metadata": {},
   "outputs": [
    {
     "data": {
      "text/html": [
       "<div>\n",
       "<style scoped>\n",
       "    .dataframe tbody tr th:only-of-type {\n",
       "        vertical-align: middle;\n",
       "    }\n",
       "\n",
       "    .dataframe tbody tr th {\n",
       "        vertical-align: top;\n",
       "    }\n",
       "\n",
       "    .dataframe thead th {\n",
       "        text-align: right;\n",
       "    }\n",
       "</style>\n",
       "<table border=\"1\" class=\"dataframe\">\n",
       "  <thead>\n",
       "    <tr style=\"text-align: right;\">\n",
       "      <th></th>\n",
       "      <th>Adj Close</th>\n",
       "      <th>Volume</th>\n",
       "      <th>LogReturn</th>\n",
       "    </tr>\n",
       "    <tr>\n",
       "      <th>Date</th>\n",
       "      <th></th>\n",
       "      <th></th>\n",
       "      <th></th>\n",
       "    </tr>\n",
       "  </thead>\n",
       "  <tbody>\n",
       "    <tr>\n",
       "      <th>2019-01-02</th>\n",
       "      <td>62.470619</td>\n",
       "      <td>4549300</td>\n",
       "      <td>NaN</td>\n",
       "    </tr>\n",
       "    <tr>\n",
       "      <th>2019-01-03</th>\n",
       "      <td>61.614986</td>\n",
       "      <td>4562200</td>\n",
       "      <td>-0.013697</td>\n",
       "    </tr>\n",
       "    <tr>\n",
       "      <th>2019-01-04</th>\n",
       "      <td>62.461220</td>\n",
       "      <td>4825900</td>\n",
       "      <td>0.013734</td>\n",
       "    </tr>\n",
       "    <tr>\n",
       "      <th>2019-01-07</th>\n",
       "      <td>65.517059</td>\n",
       "      <td>7630600</td>\n",
       "      <td>0.048924</td>\n",
       "    </tr>\n",
       "    <tr>\n",
       "      <th>2019-01-08</th>\n",
       "      <td>65.451233</td>\n",
       "      <td>6756000</td>\n",
       "      <td>-0.001005</td>\n",
       "    </tr>\n",
       "    <tr>\n",
       "      <th>...</th>\n",
       "      <td>...</td>\n",
       "      <td>...</td>\n",
       "      <td>...</td>\n",
       "    </tr>\n",
       "    <tr>\n",
       "      <th>2019-12-24</th>\n",
       "      <td>124.720284</td>\n",
       "      <td>1643400</td>\n",
       "      <td>0.001636</td>\n",
       "    </tr>\n",
       "    <tr>\n",
       "      <th>2019-12-26</th>\n",
       "      <td>125.050156</td>\n",
       "      <td>2197900</td>\n",
       "      <td>0.002645</td>\n",
       "    </tr>\n",
       "    <tr>\n",
       "      <th>2019-12-27</th>\n",
       "      <td>125.360641</td>\n",
       "      <td>2233600</td>\n",
       "      <td>0.002483</td>\n",
       "    </tr>\n",
       "    <tr>\n",
       "      <th>2019-12-30</th>\n",
       "      <td>125.050156</td>\n",
       "      <td>2546500</td>\n",
       "      <td>-0.002477</td>\n",
       "    </tr>\n",
       "    <tr>\n",
       "      <th>2019-12-31</th>\n",
       "      <td>124.390427</td>\n",
       "      <td>4059800</td>\n",
       "      <td>-0.005276</td>\n",
       "    </tr>\n",
       "  </tbody>\n",
       "</table>\n",
       "<p>252 rows × 3 columns</p>\n",
       "</div>"
      ],
      "text/plain": [
       "             Adj Close   Volume  LogReturn\n",
       "Date                                      \n",
       "2019-01-02   62.470619  4549300        NaN\n",
       "2019-01-03   61.614986  4562200  -0.013697\n",
       "2019-01-04   62.461220  4825900   0.013734\n",
       "2019-01-07   65.517059  7630600   0.048924\n",
       "2019-01-08   65.451233  6756000  -0.001005\n",
       "...                ...      ...        ...\n",
       "2019-12-24  124.720284  1643400   0.001636\n",
       "2019-12-26  125.050156  2197900   0.002645\n",
       "2019-12-27  125.360641  2233600   0.002483\n",
       "2019-12-30  125.050156  2546500  -0.002477\n",
       "2019-12-31  124.390427  4059800  -0.005276\n",
       "\n",
       "[252 rows x 3 columns]"
      ]
     },
     "execution_count": 12,
     "metadata": {},
     "output_type": "execute_result"
    }
   ],
   "source": [
    "tickers[0]"
   ]
  },
  {
   "cell_type": "markdown",
   "id": "bab36468",
   "metadata": {},
   "source": [
    "**Для каждого актива высчитываю логарифмическую доходность за год (по сумме доходностей за отдельные периоды), а также оценку доходности как среднее от доходностей за отдельные периоды.**"
   ]
  },
  {
   "cell_type": "code",
   "execution_count": 13,
   "id": "ce777ee8",
   "metadata": {},
   "outputs": [],
   "source": [
    "companies_list['Annual LogReturn'] = [tickers[i]['LogReturn'].sum() for i, row in companies_list.iterrows()]\n",
    "companies_list['E'] = [tickers[i]['LogReturn'].mean() for i, row in companies_list.iterrows()]"
   ]
  },
  {
   "cell_type": "markdown",
   "id": "a32674e6",
   "metadata": {},
   "source": [
    "**Риск - стандартное отклонение доходности**"
   ]
  },
  {
   "cell_type": "code",
   "execution_count": 14,
   "id": "963b794e",
   "metadata": {},
   "outputs": [],
   "source": [
    "companies_list['Risk'] = [tickers[i]['LogReturn'].std() for i, row in companies_list.iterrows()]"
   ]
  },
  {
   "cell_type": "markdown",
   "id": "c396e039",
   "metadata": {},
   "source": [
    "**В некоторых слишком мало наблюдений, удалил все где меньше 100 периодов.**"
   ]
  },
  {
   "cell_type": "code",
   "execution_count": 15,
   "id": "ca1e7755",
   "metadata": {},
   "outputs": [],
   "source": [
    "little_observations = []\n",
    "for i in range(len(tickers)):\n",
    "    if len(tickers[i]) < 100:\n",
    "        little_observations.append(i)"
   ]
  },
  {
   "cell_type": "code",
   "execution_count": 16,
   "id": "a00a8948",
   "metadata": {},
   "outputs": [
    {
     "data": {
      "text/plain": [
       "[8, 9, 10, 13, 14, 19, 23, 42, 43, 48, 60, 61, 67, 72, 89, 106]"
      ]
     },
     "execution_count": 16,
     "metadata": {},
     "output_type": "execute_result"
    }
   ],
   "source": [
    "little_observations"
   ]
  },
  {
   "cell_type": "code",
   "execution_count": 17,
   "id": "3ef34d2f",
   "metadata": {},
   "outputs": [],
   "source": [
    "companies_list = companies_list.drop(little_observations)"
   ]
  },
  {
   "cell_type": "code",
   "execution_count": 18,
   "id": "d404a142",
   "metadata": {},
   "outputs": [],
   "source": [
    "companies_list = companies_list.reset_index(drop=True)"
   ]
  },
  {
   "cell_type": "markdown",
   "id": "45241067",
   "metadata": {},
   "source": [
    "**Итоговые данные с которыми можно работать:**"
   ]
  },
  {
   "cell_type": "code",
   "execution_count": 19,
   "id": "88d277e9",
   "metadata": {},
   "outputs": [
    {
     "data": {
      "text/html": [
       "<div>\n",
       "<style scoped>\n",
       "    .dataframe tbody tr th:only-of-type {\n",
       "        vertical-align: middle;\n",
       "    }\n",
       "\n",
       "    .dataframe tbody tr th {\n",
       "        vertical-align: top;\n",
       "    }\n",
       "\n",
       "    .dataframe thead th {\n",
       "        text-align: right;\n",
       "    }\n",
       "</style>\n",
       "<table border=\"1\" class=\"dataframe\">\n",
       "  <thead>\n",
       "    <tr style=\"text-align: right;\">\n",
       "      <th></th>\n",
       "      <th>Ticker</th>\n",
       "      <th>Company</th>\n",
       "      <th>Sector</th>\n",
       "      <th>Subsector</th>\n",
       "      <th>Annual LogReturn</th>\n",
       "      <th>E</th>\n",
       "      <th>Risk</th>\n",
       "    </tr>\n",
       "  </thead>\n",
       "  <tbody>\n",
       "    <tr>\n",
       "      <th>0</th>\n",
       "      <td>TGT</td>\n",
       "      <td>11 88 0 SOLUTIONS AG</td>\n",
       "      <td>Telecommunication</td>\n",
       "      <td>Telecommunication Services</td>\n",
       "      <td>0.741353</td>\n",
       "      <td>0.002954</td>\n",
       "      <td>0.020980</td>\n",
       "    </tr>\n",
       "    <tr>\n",
       "      <th>1</th>\n",
       "      <td>UUU</td>\n",
       "      <td>3U HOLDING AG</td>\n",
       "      <td>Industrial</td>\n",
       "      <td>Industrial Products &amp; Services</td>\n",
       "      <td>-0.441075</td>\n",
       "      <td>-0.001757</td>\n",
       "      <td>0.041125</td>\n",
       "    </tr>\n",
       "    <tr>\n",
       "      <th>2</th>\n",
       "      <td>VSC</td>\n",
       "      <td>4SC AG</td>\n",
       "      <td>Pharma &amp; Healthcare</td>\n",
       "      <td>Biotechnology</td>\n",
       "      <td>-0.271261</td>\n",
       "      <td>-0.001185</td>\n",
       "      <td>0.017601</td>\n",
       "    </tr>\n",
       "    <tr>\n",
       "      <th>3</th>\n",
       "      <td>ARL</td>\n",
       "      <td>AAREAL BANK AG</td>\n",
       "      <td>Banks</td>\n",
       "      <td>Mortgage Banks</td>\n",
       "      <td>0.468157</td>\n",
       "      <td>0.001865</td>\n",
       "      <td>0.034848</td>\n",
       "    </tr>\n",
       "    <tr>\n",
       "      <th>4</th>\n",
       "      <td>APM</td>\n",
       "      <td>AD PEPPER MEDIA   EO 0,05</td>\n",
       "      <td>Media</td>\n",
       "      <td>Advertising</td>\n",
       "      <td>0.192979</td>\n",
       "      <td>0.000769</td>\n",
       "      <td>0.037671</td>\n",
       "    </tr>\n",
       "    <tr>\n",
       "      <th>...</th>\n",
       "      <td>...</td>\n",
       "      <td>...</td>\n",
       "      <td>...</td>\n",
       "      <td>...</td>\n",
       "      <td>...</td>\n",
       "      <td>...</td>\n",
       "      <td>...</td>\n",
       "    </tr>\n",
       "    <tr>\n",
       "      <th>87</th>\n",
       "      <td>EQS</td>\n",
       "      <td>EQS GROUP AG NA O.N.</td>\n",
       "      <td>Software</td>\n",
       "      <td>IT-Services</td>\n",
       "      <td>0.004125</td>\n",
       "      <td>0.000018</td>\n",
       "      <td>0.026577</td>\n",
       "    </tr>\n",
       "    <tr>\n",
       "      <th>88</th>\n",
       "      <td>MUX</td>\n",
       "      <td>MUTARES KGAA  NA O.N.</td>\n",
       "      <td>Financial Services</td>\n",
       "      <td>Private Equity &amp; Venture Capital</td>\n",
       "      <td>-0.233334</td>\n",
       "      <td>-0.000930</td>\n",
       "      <td>0.036996</td>\n",
       "    </tr>\n",
       "    <tr>\n",
       "      <th>89</th>\n",
       "      <td>NTG</td>\n",
       "      <td>NABALTEC AG INH.</td>\n",
       "      <td>Industrial</td>\n",
       "      <td>Industrial Products &amp; Services</td>\n",
       "      <td>0.008308</td>\n",
       "      <td>0.000033</td>\n",
       "      <td>0.012426</td>\n",
       "    </tr>\n",
       "    <tr>\n",
       "      <th>90</th>\n",
       "      <td>NUVA</td>\n",
       "      <td>NORATIS AG  INH. O.N.</td>\n",
       "      <td>Financial Services</td>\n",
       "      <td>Real Estate</td>\n",
       "      <td>0.517704</td>\n",
       "      <td>0.002063</td>\n",
       "      <td>0.020158</td>\n",
       "    </tr>\n",
       "    <tr>\n",
       "      <th>91</th>\n",
       "      <td>PBY</td>\n",
       "      <td>PUBLITY AG NA O.N.</td>\n",
       "      <td>Financial Services</td>\n",
       "      <td>Real Estate</td>\n",
       "      <td>0.186140</td>\n",
       "      <td>0.000742</td>\n",
       "      <td>0.006588</td>\n",
       "    </tr>\n",
       "  </tbody>\n",
       "</table>\n",
       "<p>92 rows × 7 columns</p>\n",
       "</div>"
      ],
      "text/plain": [
       "   Ticker                    Company               Sector  \\\n",
       "0     TGT       11 88 0 SOLUTIONS AG    Telecommunication   \n",
       "1     UUU              3U HOLDING AG           Industrial   \n",
       "2     VSC                     4SC AG  Pharma & Healthcare   \n",
       "3     ARL             AAREAL BANK AG                Banks   \n",
       "4     APM  AD PEPPER MEDIA   EO 0,05                Media   \n",
       "..    ...                        ...                  ...   \n",
       "87    EQS       EQS GROUP AG NA O.N.             Software   \n",
       "88    MUX      MUTARES KGAA  NA O.N.   Financial Services   \n",
       "89    NTG           NABALTEC AG INH.           Industrial   \n",
       "90   NUVA      NORATIS AG  INH. O.N.   Financial Services   \n",
       "91    PBY         PUBLITY AG NA O.N.   Financial Services   \n",
       "\n",
       "                           Subsector  Annual LogReturn         E      Risk  \n",
       "0         Telecommunication Services          0.741353  0.002954  0.020980  \n",
       "1     Industrial Products & Services         -0.441075 -0.001757  0.041125  \n",
       "2                      Biotechnology         -0.271261 -0.001185  0.017601  \n",
       "3                     Mortgage Banks          0.468157  0.001865  0.034848  \n",
       "4                        Advertising          0.192979  0.000769  0.037671  \n",
       "..                               ...               ...       ...       ...  \n",
       "87                       IT-Services          0.004125  0.000018  0.026577  \n",
       "88  Private Equity & Venture Capital         -0.233334 -0.000930  0.036996  \n",
       "89    Industrial Products & Services          0.008308  0.000033  0.012426  \n",
       "90                       Real Estate          0.517704  0.002063  0.020158  \n",
       "91                       Real Estate          0.186140  0.000742  0.006588  \n",
       "\n",
       "[92 rows x 7 columns]"
      ]
     },
     "execution_count": 19,
     "metadata": {},
     "output_type": "execute_result"
    }
   ],
   "source": [
    "companies_list"
   ]
  },
  {
   "cell_type": "code",
   "execution_count": 20,
   "id": "397882c0",
   "metadata": {},
   "outputs": [],
   "source": [
    "import matplotlib.pyplot as plt"
   ]
  },
  {
   "cell_type": "code",
   "execution_count": 21,
   "id": "1021f378",
   "metadata": {},
   "outputs": [
    {
     "data": {
      "text/plain": [
       "<matplotlib.collections.PathCollection at 0x237c749de50>"
      ]
     },
     "execution_count": 21,
     "metadata": {},
     "output_type": "execute_result"
    },
    {
     "data": {
      "image/png": "[encoded data removed]",
      "text/plain": [
       "<Figure size 432x288 with 1 Axes>"
      ]
     },
     "metadata": {
      "needs_background": "light"
     },
     "output_type": "display_data"
    }
   ],
   "source": [
    "plt.scatter(companies_list['Risk'], companies_list['E'])"
   ]
  },
  {
   "cell_type": "markdown",
   "id": "1d477182",
   "metadata": {},
   "source": [
    "**Удалил выбросы**"
   ]
  },
  {
   "cell_type": "code",
   "execution_count": 22,
   "id": "409b2953",
   "metadata": {},
   "outputs": [],
   "source": [
    "for i, row in companies_list.iterrows():\n",
    "    if row['Risk'] > 0.1:\n",
    "        companies_list.drop(i, inplace=True)"
   ]
  },
  {
   "cell_type": "code",
   "execution_count": 23,
   "id": "6185b412",
   "metadata": {},
   "outputs": [
    {
     "data": {
      "text/plain": [
       "Text(0, 0.5, 'E (Лог. доходность)')"
      ]
     },
     "execution_count": 23,
     "metadata": {},
     "output_type": "execute_result"
    },
    {
     "data": {
      "text/plain": [
       "<Figure size 720x720 with 0 Axes>"
      ]
     },
     "metadata": {},
     "output_type": "display_data"
    },
    {
     "data": {
      "image/png": "[encoded data removed]",
      "text/plain": [
       "<Figure size 720x720 with 1 Axes>"
      ]
     },
     "metadata": {
      "needs_background": "light"
     },
     "output_type": "display_data"
    }
   ],
   "source": [
    "plt.figure(figsize=(10,10))\n",
    "fig, ax = plt.subplots(figsize=(10,10))\n",
    "ax.scatter(companies_list['Risk'], companies_list['E'], label='Актив')\n",
    "ax.legend()\n",
    "plt.xlabel('σ (Риск)')\n",
    "plt.ylabel('E (Лог. доходность)')"
   ]
  },
  {
   "cell_type": "markdown",
   "id": "18c85254",
   "metadata": {},
   "source": [
    "# 3. Рассмотрите портфель с равными долями капитала и отметьте его на карте активов в системе координат (σ, E). Дайте характеристику этому портфелю."
   ]
  },
  {
   "cell_type": "code",
   "execution_count": 24,
   "id": "95a6b277",
   "metadata": {},
   "outputs": [
    {
     "name": "stdout",
     "output_type": "stream",
     "text": [
      "Сбалансированный портфель:\n",
      "E = 0.0007227293321742406 \n",
      "σ = 0.0016122208953505597\n"
     ]
    }
   ],
   "source": [
    "balanced_E = companies_list['E'].mean()\n",
    "balanced_Risk = companies_list['E'].std()\n",
    "print('Сбалансированный портфель:\\nE =', balanced_E, '\\nσ =', balanced_Risk)"
   ]
  },
  {
   "cell_type": "code",
   "execution_count": 25,
   "id": "7c8ffcec",
   "metadata": {},
   "outputs": [
    {
     "data": {
      "text/plain": [
       "<Figure size 720x720 with 0 Axes>"
      ]
     },
     "metadata": {},
     "output_type": "display_data"
    },
    {
     "data": {
      "image/png": "[encoded data removed]",
      "text/plain": [
       "<Figure size 720x720 with 1 Axes>"
      ]
     },
     "metadata": {
      "needs_background": "light"
     },
     "output_type": "display_data"
    }
   ],
   "source": [
    "plt.figure(figsize=(10,10))\n",
    "fig, ax = plt.subplots(figsize=(10,10))\n",
    "ax.scatter(companies_list['Risk'], companies_list['E'], label='Актив')\n",
    "ax.scatter([balanced_Risk], [balanced_E], marker='x', color='red', s=[250], label='Равномерный портфель')\n",
    "ax.legend()\n",
    "plt.xlabel('σ (Риск)')\n",
    "plt.ylabel('E (Лог. доходность)')\n",
    "plt.show()"
   ]
  },
  {
   "cell_type": "markdown",
   "id": "0d4597f3",
   "metadata": {},
   "source": [
    "# 4. Рассмотрите индекс рынка и отметьте его на карте активов в системе координат (σ,E). Дайте характеристику индексу рынка."
   ]
  },
  {
   "cell_type": "code",
   "execution_count": 26,
   "id": "f97c6ba7",
   "metadata": {},
   "outputs": [
    {
     "data": {
      "text/html": [
       "<div>\n",
       "<style scoped>\n",
       "    .dataframe tbody tr th:only-of-type {\n",
       "        vertical-align: middle;\n",
       "    }\n",
       "\n",
       "    .dataframe tbody tr th {\n",
       "        vertical-align: top;\n",
       "    }\n",
       "\n",
       "    .dataframe thead th {\n",
       "        text-align: right;\n",
       "    }\n",
       "</style>\n",
       "<table border=\"1\" class=\"dataframe\">\n",
       "  <thead>\n",
       "    <tr style=\"text-align: right;\">\n",
       "      <th></th>\n",
       "      <th>Adj Close</th>\n",
       "      <th>Volume</th>\n",
       "      <th>LogReturn</th>\n",
       "    </tr>\n",
       "    <tr>\n",
       "      <th>Date</th>\n",
       "      <th></th>\n",
       "      <th></th>\n",
       "      <th></th>\n",
       "    </tr>\n",
       "  </thead>\n",
       "  <tbody>\n",
       "    <tr>\n",
       "      <th>2019-01-02</th>\n",
       "      <td>10580.190430</td>\n",
       "      <td>79626700</td>\n",
       "      <td>NaN</td>\n",
       "    </tr>\n",
       "    <tr>\n",
       "      <th>2019-01-03</th>\n",
       "      <td>10416.660156</td>\n",
       "      <td>84733800</td>\n",
       "      <td>-0.015456</td>\n",
       "    </tr>\n",
       "    <tr>\n",
       "      <th>2019-01-04</th>\n",
       "      <td>10767.690430</td>\n",
       "      <td>95339500</td>\n",
       "      <td>0.033699</td>\n",
       "    </tr>\n",
       "    <tr>\n",
       "      <th>2019-01-07</th>\n",
       "      <td>10747.809570</td>\n",
       "      <td>71151400</td>\n",
       "      <td>-0.001846</td>\n",
       "    </tr>\n",
       "    <tr>\n",
       "      <th>2019-01-08</th>\n",
       "      <td>10803.980469</td>\n",
       "      <td>93672200</td>\n",
       "      <td>0.005226</td>\n",
       "    </tr>\n",
       "    <tr>\n",
       "      <th>...</th>\n",
       "      <td>...</td>\n",
       "      <td>...</td>\n",
       "      <td>...</td>\n",
       "    </tr>\n",
       "    <tr>\n",
       "      <th>2019-12-19</th>\n",
       "      <td>13211.959961</td>\n",
       "      <td>84018200</td>\n",
       "      <td>-0.000771</td>\n",
       "    </tr>\n",
       "    <tr>\n",
       "      <th>2019-12-20</th>\n",
       "      <td>13318.900391</td>\n",
       "      <td>170723200</td>\n",
       "      <td>0.008094</td>\n",
       "    </tr>\n",
       "    <tr>\n",
       "      <th>2019-12-23</th>\n",
       "      <td>13300.980469</td>\n",
       "      <td>56215400</td>\n",
       "      <td>-0.001345</td>\n",
       "    </tr>\n",
       "    <tr>\n",
       "      <th>2019-12-27</th>\n",
       "      <td>13337.110352</td>\n",
       "      <td>43758600</td>\n",
       "      <td>0.002716</td>\n",
       "    </tr>\n",
       "    <tr>\n",
       "      <th>2019-12-30</th>\n",
       "      <td>13249.009766</td>\n",
       "      <td>31427400</td>\n",
       "      <td>-0.006606</td>\n",
       "    </tr>\n",
       "  </tbody>\n",
       "</table>\n",
       "<p>251 rows × 3 columns</p>\n",
       "</div>"
      ],
      "text/plain": [
       "               Adj Close     Volume  LogReturn\n",
       "Date                                          \n",
       "2019-01-02  10580.190430   79626700        NaN\n",
       "2019-01-03  10416.660156   84733800  -0.015456\n",
       "2019-01-04  10767.690430   95339500   0.033699\n",
       "2019-01-07  10747.809570   71151400  -0.001846\n",
       "2019-01-08  10803.980469   93672200   0.005226\n",
       "...                  ...        ...        ...\n",
       "2019-12-19  13211.959961   84018200  -0.000771\n",
       "2019-12-20  13318.900391  170723200   0.008094\n",
       "2019-12-23  13300.980469   56215400  -0.001345\n",
       "2019-12-27  13337.110352   43758600   0.002716\n",
       "2019-12-30  13249.009766   31427400  -0.006606\n",
       "\n",
       "[251 rows x 3 columns]"
      ]
     },
     "execution_count": 26,
     "metadata": {},
     "output_type": "execute_result"
    }
   ],
   "source": [
    "log_returns = []\n",
    "close_price = DAX_index['Adj Close']\n",
    "log_returns.append(None)\n",
    "for i in range(1, len(close_price)):\n",
    "    log_return = (close_price[i] - close_price[i - 1]) / close_price[i - 1]\n",
    "    log_returns.append(log_return)\n",
    "DAX_index['LogReturn'] = log_returns\n",
    "DAX_index"
   ]
  },
  {
   "cell_type": "code",
   "execution_count": 27,
   "id": "085fba0f",
   "metadata": {},
   "outputs": [
    {
     "name": "stdout",
     "output_type": "stream",
     "text": [
      "Годовая логарифмическая доходность рынка по индексу DAX = 0.2347641154811551\n",
      "Оценка логарифмическая доходности рынка по индексу DAX = 0.0009390564619246205\n",
      "Оценка рынка по индексу DAX = 0.00883293268285711\n"
     ]
    }
   ],
   "source": [
    "dax_annual_log_return = DAX_index['LogReturn'].sum()\n",
    "dax_E = DAX_index['LogReturn'].mean()\n",
    "dax_Risk = DAX_index['LogReturn'].std()\n",
    "print('Годовая логарифмическая доходность рынка по индексу DAX =', dax_annual_log_return)\n",
    "print('Оценка логарифмическая доходности рынка по индексу DAX =', dax_E)\n",
    "print('Оценка рынка по индексу DAX =', dax_Risk)"
   ]
  },
  {
   "cell_type": "code",
   "execution_count": 28,
   "id": "2d03270e",
   "metadata": {},
   "outputs": [
    {
     "data": {
      "text/plain": [
       "<Figure size 720x720 with 0 Axes>"
      ]
     },
     "metadata": {},
     "output_type": "display_data"
    },
    {
     "data": {
      "image/png": "[encoded data removed]",
      "text/plain": [
       "<Figure size 720x720 with 1 Axes>"
      ]
     },
     "metadata": {
      "needs_background": "light"
     },
     "output_type": "display_data"
    }
   ],
   "source": [
    "plt.figure(figsize=(10,10))\n",
    "fig, ax = plt.subplots(figsize=(10,10))\n",
    "ax.scatter(companies_list['Risk'], companies_list['E'], label='Актив')\n",
    "ax.scatter([dax_Risk], [dax_E], marker='+', color='red', s=[250], label='Индекс рынка')\n",
    "ax.legend()\n",
    "plt.xlabel('σ (Риск)')\n",
    "plt.ylabel('E (Лог. доходность)')\n",
    "plt.show()"
   ]
  },
  {
   "cell_type": "code",
   "execution_count": 36,
   "id": "31405329",
   "metadata": {},
   "outputs": [],
   "source": [
    "companies_list_csv = 'companies_list.csv'\n",
    "companies_list.to_csv(companies_list_csv)"
   ]
  },
  {
   "cell_type": "code",
   "execution_count": 37,
   "id": "905e2774",
   "metadata": {},
   "outputs": [
    {
     "data": {
      "text/html": [
       "<div>\n",
       "<style scoped>\n",
       "    .dataframe tbody tr th:only-of-type {\n",
       "        vertical-align: middle;\n",
       "    }\n",
       "\n",
       "    .dataframe tbody tr th {\n",
       "        vertical-align: top;\n",
       "    }\n",
       "\n",
       "    .dataframe thead th {\n",
       "        text-align: right;\n",
       "    }\n",
       "</style>\n",
       "<table border=\"1\" class=\"dataframe\">\n",
       "  <thead>\n",
       "    <tr style=\"text-align: right;\">\n",
       "      <th></th>\n",
       "      <th>Ticker</th>\n",
       "      <th>Company</th>\n",
       "      <th>Sector</th>\n",
       "      <th>Subsector</th>\n",
       "      <th>Annual LogReturn</th>\n",
       "      <th>E</th>\n",
       "      <th>Risk</th>\n",
       "    </tr>\n",
       "    <tr>\n",
       "      <th>index</th>\n",
       "      <th></th>\n",
       "      <th></th>\n",
       "      <th></th>\n",
       "      <th></th>\n",
       "      <th></th>\n",
       "      <th></th>\n",
       "      <th></th>\n",
       "    </tr>\n",
       "  </thead>\n",
       "  <tbody>\n",
       "    <tr>\n",
       "      <th>0</th>\n",
       "      <td>TGT</td>\n",
       "      <td>11 88 0 SOLUTIONS AG</td>\n",
       "      <td>Telecommunication</td>\n",
       "      <td>Telecommunication Services</td>\n",
       "      <td>0.741353</td>\n",
       "      <td>0.002954</td>\n",
       "      <td>0.020980</td>\n",
       "    </tr>\n",
       "    <tr>\n",
       "      <th>1</th>\n",
       "      <td>UUU</td>\n",
       "      <td>3U HOLDING AG</td>\n",
       "      <td>Industrial</td>\n",
       "      <td>Industrial Products &amp; Services</td>\n",
       "      <td>-0.441075</td>\n",
       "      <td>-0.001757</td>\n",
       "      <td>0.041125</td>\n",
       "    </tr>\n",
       "    <tr>\n",
       "      <th>2</th>\n",
       "      <td>VSC</td>\n",
       "      <td>4SC AG</td>\n",
       "      <td>Pharma &amp; Healthcare</td>\n",
       "      <td>Biotechnology</td>\n",
       "      <td>-0.271261</td>\n",
       "      <td>-0.001185</td>\n",
       "      <td>0.017601</td>\n",
       "    </tr>\n",
       "    <tr>\n",
       "      <th>3</th>\n",
       "      <td>ARL</td>\n",
       "      <td>AAREAL BANK AG</td>\n",
       "      <td>Banks</td>\n",
       "      <td>Mortgage Banks</td>\n",
       "      <td>0.468157</td>\n",
       "      <td>0.001865</td>\n",
       "      <td>0.034848</td>\n",
       "    </tr>\n",
       "    <tr>\n",
       "      <th>4</th>\n",
       "      <td>APM</td>\n",
       "      <td>AD PEPPER MEDIA   EO 0,05</td>\n",
       "      <td>Media</td>\n",
       "      <td>Advertising</td>\n",
       "      <td>0.192979</td>\n",
       "      <td>0.000769</td>\n",
       "      <td>0.037671</td>\n",
       "    </tr>\n",
       "    <tr>\n",
       "      <th>...</th>\n",
       "      <td>...</td>\n",
       "      <td>...</td>\n",
       "      <td>...</td>\n",
       "      <td>...</td>\n",
       "      <td>...</td>\n",
       "      <td>...</td>\n",
       "      <td>...</td>\n",
       "    </tr>\n",
       "    <tr>\n",
       "      <th>87</th>\n",
       "      <td>EQS</td>\n",
       "      <td>EQS GROUP AG NA O.N.</td>\n",
       "      <td>Software</td>\n",
       "      <td>IT-Services</td>\n",
       "      <td>0.004125</td>\n",
       "      <td>0.000018</td>\n",
       "      <td>0.026577</td>\n",
       "    </tr>\n",
       "    <tr>\n",
       "      <th>88</th>\n",
       "      <td>MUX</td>\n",
       "      <td>MUTARES KGAA  NA O.N.</td>\n",
       "      <td>Financial Services</td>\n",
       "      <td>Private Equity &amp; Venture Capital</td>\n",
       "      <td>-0.233334</td>\n",
       "      <td>-0.000930</td>\n",
       "      <td>0.036996</td>\n",
       "    </tr>\n",
       "    <tr>\n",
       "      <th>89</th>\n",
       "      <td>NTG</td>\n",
       "      <td>NABALTEC AG INH.</td>\n",
       "      <td>Industrial</td>\n",
       "      <td>Industrial Products &amp; Services</td>\n",
       "      <td>0.008308</td>\n",
       "      <td>0.000033</td>\n",
       "      <td>0.012426</td>\n",
       "    </tr>\n",
       "    <tr>\n",
       "      <th>90</th>\n",
       "      <td>NUVA</td>\n",
       "      <td>NORATIS AG  INH. O.N.</td>\n",
       "      <td>Financial Services</td>\n",
       "      <td>Real Estate</td>\n",
       "      <td>0.517704</td>\n",
       "      <td>0.002063</td>\n",
       "      <td>0.020158</td>\n",
       "    </tr>\n",
       "    <tr>\n",
       "      <th>91</th>\n",
       "      <td>PBY</td>\n",
       "      <td>PUBLITY AG NA O.N.</td>\n",
       "      <td>Financial Services</td>\n",
       "      <td>Real Estate</td>\n",
       "      <td>0.186140</td>\n",
       "      <td>0.000742</td>\n",
       "      <td>0.006588</td>\n",
       "    </tr>\n",
       "  </tbody>\n",
       "</table>\n",
       "<p>87 rows × 7 columns</p>\n",
       "</div>"
      ],
      "text/plain": [
       "      Ticker                    Company               Sector  \\\n",
       "index                                                          \n",
       "0        TGT       11 88 0 SOLUTIONS AG    Telecommunication   \n",
       "1        UUU              3U HOLDING AG           Industrial   \n",
       "2        VSC                     4SC AG  Pharma & Healthcare   \n",
       "3        ARL             AAREAL BANK AG                Banks   \n",
       "4        APM  AD PEPPER MEDIA   EO 0,05                Media   \n",
       "...      ...                        ...                  ...   \n",
       "87       EQS       EQS GROUP AG NA O.N.             Software   \n",
       "88       MUX      MUTARES KGAA  NA O.N.   Financial Services   \n",
       "89       NTG           NABALTEC AG INH.           Industrial   \n",
       "90      NUVA      NORATIS AG  INH. O.N.   Financial Services   \n",
       "91       PBY         PUBLITY AG NA O.N.   Financial Services   \n",
       "\n",
       "                              Subsector  Annual LogReturn         E      Risk  \n",
       "index                                                                          \n",
       "0            Telecommunication Services          0.741353  0.002954  0.020980  \n",
       "1        Industrial Products & Services         -0.441075 -0.001757  0.041125  \n",
       "2                         Biotechnology         -0.271261 -0.001185  0.017601  \n",
       "3                        Mortgage Banks          0.468157  0.001865  0.034848  \n",
       "4                           Advertising          0.192979  0.000769  0.037671  \n",
       "...                                 ...               ...       ...       ...  \n",
       "87                          IT-Services          0.004125  0.000018  0.026577  \n",
       "88     Private Equity & Venture Capital         -0.233334 -0.000930  0.036996  \n",
       "89       Industrial Products & Services          0.008308  0.000033  0.012426  \n",
       "90                          Real Estate          0.517704  0.002063  0.020158  \n",
       "91                          Real Estate          0.186140  0.000742  0.006588  \n",
       "\n",
       "[87 rows x 7 columns]"
      ]
     },
     "execution_count": 37,
     "metadata": {},
     "output_type": "execute_result"
    }
   ],
   "source": [
    "companies_list = pd.read_csv(companies_list_csv, index_col='index')\n",
    "companies_list"
   ]
  },
  {
   "cell_type": "code",
   "execution_count": null,
   "id": "ab4a7d34",
   "metadata": {},
   "outputs": [],
   "source": []
  }
 ],
 "metadata": {
  "kernelspec": {
   "display_name": "Python 3 (ipykernel)",
   "language": "python",
   "name": "python3"
  },
  "language_info": {
   "codemirror_mode": {
    "name": "ipython",
    "version": 3
   },
   "file_extension": ".py",
   "mimetype": "text/x-python",
   "name": "python",
   "nbconvert_exporter": "python",
   "pygments_lexer": "ipython3",
   "version": "3.9.7"
  }
 },
 "nbformat": 4,
 "nbformat_minor": 5
}
