{
 "cells": [
  {
   "cell_type": "code",
   "execution_count": 1,
   "id": "4f0374d0",
   "metadata": {},
   "outputs": [],
   "source": [
    "import pandas as pd\n",
    "import yfinance as yf\n",
    "from yahoofinancials import YahooFinancials"
   ]
  },
  {
   "cell_type": "markdown",
   "id": "28d06ef8",
   "metadata": {},
   "source": [
    "**Скачал список компаний Франкфуртской биржи**"
   ]
  },
  {
   "cell_type": "raw",
   "id": "c938cf85",
   "metadata": {},
   "source": [
    "companies_list_file_name = 'list.xlsx'"
   ]
  },
  {
   "cell_type": "raw",
   "id": "bfabcf96",
   "metadata": {},
   "source": [
    "companies_list = pd.read_excel(companies_list_file_name)\n",
    "companies_list"
   ]
  },
  {
   "cell_type": "code",
   "execution_count": 2,
   "id": "4b40fc8e",
   "metadata": {},
   "outputs": [],
   "source": [
    "start_date = '2019-01-02'\n",
    "end_date = '2020-01-01'\n",
    "\n",
    "def download_ticker(ticker, start=start_date, end=end_date):\n",
    "    return yf.download(ticker, start, end)"
   ]
  },
  {
   "cell_type": "markdown",
   "id": "7faa1dfe",
   "metadata": {},
   "source": [
    "**Индекс DAX представляет собой главный индекс Франфуртской биржи.  Индекс вычисляется как среднее взвешенное по капитализации значение цен акций 30 крупнейших акционерных компаний Германии.**"
   ]
  },
  {
   "cell_type": "code",
   "execution_count": 3,
   "id": "84aec954",
   "metadata": {},
   "outputs": [
    {
     "name": "stdout",
     "output_type": "stream",
     "text": [
      "[*********************100%***********************]  1 of 1 completed\n"
     ]
    },
    {
     "data": {
      "text/html": [
       "<div>\n",
       "<style scoped>\n",
       "    .dataframe tbody tr th:only-of-type {\n",
       "        vertical-align: middle;\n",
       "    }\n",
       "\n",
       "    .dataframe tbody tr th {\n",
       "        vertical-align: top;\n",
       "    }\n",
       "\n",
       "    .dataframe thead th {\n",
       "        text-align: right;\n",
       "    }\n",
       "</style>\n",
       "<table border=\"1\" class=\"dataframe\">\n",
       "  <thead>\n",
       "    <tr style=\"text-align: right;\">\n",
       "      <th></th>\n",
       "      <th>Open</th>\n",
       "      <th>High</th>\n",
       "      <th>Low</th>\n",
       "      <th>Close</th>\n",
       "      <th>Adj Close</th>\n",
       "      <th>Volume</th>\n",
       "    </tr>\n",
       "    <tr>\n",
       "      <th>Date</th>\n",
       "      <th></th>\n",
       "      <th></th>\n",
       "      <th></th>\n",
       "      <th></th>\n",
       "      <th></th>\n",
       "      <th></th>\n",
       "    </tr>\n",
       "  </thead>\n",
       "  <tbody>\n",
       "    <tr>\n",
       "      <th>2019-01-02</th>\n",
       "      <td>10477.769531</td>\n",
       "      <td>10612.719727</td>\n",
       "      <td>10386.969727</td>\n",
       "      <td>10580.190430</td>\n",
       "      <td>10580.190430</td>\n",
       "      <td>79626700</td>\n",
       "    </tr>\n",
       "    <tr>\n",
       "      <th>2019-01-03</th>\n",
       "      <td>10467.110352</td>\n",
       "      <td>10538.660156</td>\n",
       "      <td>10400.110352</td>\n",
       "      <td>10416.660156</td>\n",
       "      <td>10416.660156</td>\n",
       "      <td>84733800</td>\n",
       "    </tr>\n",
       "    <tr>\n",
       "      <th>2019-01-04</th>\n",
       "      <td>10533.940430</td>\n",
       "      <td>10786.339844</td>\n",
       "      <td>10483.900391</td>\n",
       "      <td>10767.690430</td>\n",
       "      <td>10767.690430</td>\n",
       "      <td>95339500</td>\n",
       "    </tr>\n",
       "    <tr>\n",
       "      <th>2019-01-07</th>\n",
       "      <td>10814.389648</td>\n",
       "      <td>10814.469727</td>\n",
       "      <td>10681.269531</td>\n",
       "      <td>10747.809570</td>\n",
       "      <td>10747.809570</td>\n",
       "      <td>71151400</td>\n",
       "    </tr>\n",
       "    <tr>\n",
       "      <th>2019-01-08</th>\n",
       "      <td>10750.190430</td>\n",
       "      <td>10910.709961</td>\n",
       "      <td>10745.030273</td>\n",
       "      <td>10803.980469</td>\n",
       "      <td>10803.980469</td>\n",
       "      <td>93672200</td>\n",
       "    </tr>\n",
       "    <tr>\n",
       "      <th>...</th>\n",
       "      <td>...</td>\n",
       "      <td>...</td>\n",
       "      <td>...</td>\n",
       "      <td>...</td>\n",
       "      <td>...</td>\n",
       "      <td>...</td>\n",
       "    </tr>\n",
       "    <tr>\n",
       "      <th>2019-12-19</th>\n",
       "      <td>13226.700195</td>\n",
       "      <td>13248.980469</td>\n",
       "      <td>13140.219727</td>\n",
       "      <td>13211.959961</td>\n",
       "      <td>13211.959961</td>\n",
       "      <td>84018200</td>\n",
       "    </tr>\n",
       "    <tr>\n",
       "      <th>2019-12-20</th>\n",
       "      <td>13210.259766</td>\n",
       "      <td>13324.110352</td>\n",
       "      <td>13201.799805</td>\n",
       "      <td>13318.900391</td>\n",
       "      <td>13318.900391</td>\n",
       "      <td>170723200</td>\n",
       "    </tr>\n",
       "    <tr>\n",
       "      <th>2019-12-23</th>\n",
       "      <td>13304.769531</td>\n",
       "      <td>13331.860352</td>\n",
       "      <td>13285.549805</td>\n",
       "      <td>13300.980469</td>\n",
       "      <td>13300.980469</td>\n",
       "      <td>56215400</td>\n",
       "    </tr>\n",
       "    <tr>\n",
       "      <th>2019-12-27</th>\n",
       "      <td>13338.320312</td>\n",
       "      <td>13381.440430</td>\n",
       "      <td>13311.519531</td>\n",
       "      <td>13337.110352</td>\n",
       "      <td>13337.110352</td>\n",
       "      <td>43758600</td>\n",
       "    </tr>\n",
       "    <tr>\n",
       "      <th>2019-12-30</th>\n",
       "      <td>13301.429688</td>\n",
       "      <td>13316.620117</td>\n",
       "      <td>13244.169922</td>\n",
       "      <td>13249.009766</td>\n",
       "      <td>13249.009766</td>\n",
       "      <td>31427400</td>\n",
       "    </tr>\n",
       "  </tbody>\n",
       "</table>\n",
       "<p>251 rows × 6 columns</p>\n",
       "</div>"
      ],
      "text/plain": [
       "                    Open          High           Low         Close  \\\n",
       "Date                                                                 \n",
       "2019-01-02  10477.769531  10612.719727  10386.969727  10580.190430   \n",
       "2019-01-03  10467.110352  10538.660156  10400.110352  10416.660156   \n",
       "2019-01-04  10533.940430  10786.339844  10483.900391  10767.690430   \n",
       "2019-01-07  10814.389648  10814.469727  10681.269531  10747.809570   \n",
       "2019-01-08  10750.190430  10910.709961  10745.030273  10803.980469   \n",
       "...                  ...           ...           ...           ...   \n",
       "2019-12-19  13226.700195  13248.980469  13140.219727  13211.959961   \n",
       "2019-12-20  13210.259766  13324.110352  13201.799805  13318.900391   \n",
       "2019-12-23  13304.769531  13331.860352  13285.549805  13300.980469   \n",
       "2019-12-27  13338.320312  13381.440430  13311.519531  13337.110352   \n",
       "2019-12-30  13301.429688  13316.620117  13244.169922  13249.009766   \n",
       "\n",
       "               Adj Close     Volume  \n",
       "Date                                 \n",
       "2019-01-02  10580.190430   79626700  \n",
       "2019-01-03  10416.660156   84733800  \n",
       "2019-01-04  10767.690430   95339500  \n",
       "2019-01-07  10747.809570   71151400  \n",
       "2019-01-08  10803.980469   93672200  \n",
       "...                  ...        ...  \n",
       "2019-12-19  13211.959961   84018200  \n",
       "2019-12-20  13318.900391  170723200  \n",
       "2019-12-23  13300.980469   56215400  \n",
       "2019-12-27  13337.110352   43758600  \n",
       "2019-12-30  13249.009766   31427400  \n",
       "\n",
       "[251 rows x 6 columns]"
      ]
     },
     "execution_count": 3,
     "metadata": {},
     "output_type": "execute_result"
    }
   ],
   "source": [
    "DAX_index = download_ticker('^GDAXI')\n",
    "DAX_index"
   ]
  },
  {
   "cell_type": "markdown",
   "id": "5c303f05",
   "metadata": {},
   "source": [
    "**Выкачал тикеры, удалил из датафрейма компании которые не скачались. Перекачивать не нужно, сохранено в бинарник.**"
   ]
  },
  {
   "cell_type": "raw",
   "id": "f3601462",
   "metadata": {},
   "source": [
    "tickers = [None] # None для нормальной адресации - в фрейме с компаниями индексация начинается с единицы\n",
    "failed = []\n",
    "for index, row in companies_list.iterrows():\n",
    "    ticker = str(row['Ticker'])\n",
    "    ticker_data = download_ticker(ticker)\n",
    "    if ticker_data.shape[0] == 0:\n",
    "        failed.append(index)\n",
    "        continue\n",
    "    tickers.append(ticker_data)\n",
    "companies_list = companies_list.drop(failed)\n",
    "companies_list"
   ]
  },
  {
   "cell_type": "code",
   "execution_count": 4,
   "id": "83bf2066",
   "metadata": {},
   "outputs": [],
   "source": [
    "import pickle"
   ]
  },
  {
   "cell_type": "code",
   "execution_count": 5,
   "id": "bfeb23cf",
   "metadata": {},
   "outputs": [],
   "source": [
    "companies_dump_file_name = 'companies.p'\n",
    "tickers_dump_file_name = 'tickers.p'"
   ]
  },
  {
   "cell_type": "raw",
   "id": "cdc41d4f",
   "metadata": {},
   "source": [
    "pickle.dump(companies_list, open(companies_dump_file_name, \"wb\"))\n",
    "pickle.dump(tickers, open(tickers_dump_file_name, \"wb\"))"
   ]
  },
  {
   "cell_type": "markdown",
   "id": "73bbca47",
   "metadata": {},
   "source": [
    "**Следующая ячейка загружает обьекты из файлов в память**"
   ]
  },
  {
   "cell_type": "code",
   "execution_count": 6,
   "id": "136c1596",
   "metadata": {},
   "outputs": [],
   "source": [
    "companies_list = pickle.load(open(companies_dump_file_name, \"rb\"))\n",
    "tickers = pickle.load(open(tickers_dump_file_name, \"rb\"))"
   ]
  },
  {
   "cell_type": "code",
   "execution_count": 7,
   "id": "73f3d995",
   "metadata": {},
   "outputs": [],
   "source": [
    "companies_list.drop(['ISIN', 'Country' ,'Instrument Exchange'], axis=1, inplace=True)"
   ]
  },
  {
   "cell_type": "code",
   "execution_count": 8,
   "id": "4748329e",
   "metadata": {},
   "outputs": [],
   "source": [
    "for ticker in tickers:\n",
    "    ticker.drop(['Open', 'High', 'Low', 'Close'], axis=1, inplace=True)"
   ]
  },
  {
   "cell_type": "code",
   "execution_count": 9,
   "id": "de207936",
   "metadata": {},
   "outputs": [
    {
     "data": {
      "text/plain": [
       "108"
      ]
     },
     "execution_count": 9,
     "metadata": {},
     "output_type": "execute_result"
    }
   ],
   "source": [
    "len(tickers)"
   ]
  },
  {
   "cell_type": "code",
   "execution_count": 10,
   "id": "93b34f79",
   "metadata": {},
   "outputs": [
    {
     "data": {
      "text/html": [
       "<div>\n",
       "<style scoped>\n",
       "    .dataframe tbody tr th:only-of-type {\n",
       "        vertical-align: middle;\n",
       "    }\n",
       "\n",
       "    .dataframe tbody tr th {\n",
       "        vertical-align: top;\n",
       "    }\n",
       "\n",
       "    .dataframe thead th {\n",
       "        text-align: right;\n",
       "    }\n",
       "</style>\n",
       "<table border=\"1\" class=\"dataframe\">\n",
       "  <thead>\n",
       "    <tr style=\"text-align: right;\">\n",
       "      <th></th>\n",
       "      <th>Adj Close</th>\n",
       "      <th>Volume</th>\n",
       "    </tr>\n",
       "    <tr>\n",
       "      <th>Date</th>\n",
       "      <th></th>\n",
       "      <th></th>\n",
       "    </tr>\n",
       "  </thead>\n",
       "  <tbody>\n",
       "    <tr>\n",
       "      <th>2019-01-02</th>\n",
       "      <td>62.470619</td>\n",
       "      <td>4549300</td>\n",
       "    </tr>\n",
       "    <tr>\n",
       "      <th>2019-01-03</th>\n",
       "      <td>61.614986</td>\n",
       "      <td>4562200</td>\n",
       "    </tr>\n",
       "    <tr>\n",
       "      <th>2019-01-04</th>\n",
       "      <td>62.461220</td>\n",
       "      <td>4825900</td>\n",
       "    </tr>\n",
       "    <tr>\n",
       "      <th>2019-01-07</th>\n",
       "      <td>65.517059</td>\n",
       "      <td>7630600</td>\n",
       "    </tr>\n",
       "    <tr>\n",
       "      <th>2019-01-08</th>\n",
       "      <td>65.451233</td>\n",
       "      <td>6756000</td>\n",
       "    </tr>\n",
       "    <tr>\n",
       "      <th>...</th>\n",
       "      <td>...</td>\n",
       "      <td>...</td>\n",
       "    </tr>\n",
       "    <tr>\n",
       "      <th>2019-12-24</th>\n",
       "      <td>124.720284</td>\n",
       "      <td>1643400</td>\n",
       "    </tr>\n",
       "    <tr>\n",
       "      <th>2019-12-26</th>\n",
       "      <td>125.050156</td>\n",
       "      <td>2197900</td>\n",
       "    </tr>\n",
       "    <tr>\n",
       "      <th>2019-12-27</th>\n",
       "      <td>125.360641</td>\n",
       "      <td>2233600</td>\n",
       "    </tr>\n",
       "    <tr>\n",
       "      <th>2019-12-30</th>\n",
       "      <td>125.050156</td>\n",
       "      <td>2546500</td>\n",
       "    </tr>\n",
       "    <tr>\n",
       "      <th>2019-12-31</th>\n",
       "      <td>124.390427</td>\n",
       "      <td>4059800</td>\n",
       "    </tr>\n",
       "  </tbody>\n",
       "</table>\n",
       "<p>252 rows × 2 columns</p>\n",
       "</div>"
      ],
      "text/plain": [
       "             Adj Close   Volume\n",
       "Date                           \n",
       "2019-01-02   62.470619  4549300\n",
       "2019-01-03   61.614986  4562200\n",
       "2019-01-04   62.461220  4825900\n",
       "2019-01-07   65.517059  7630600\n",
       "2019-01-08   65.451233  6756000\n",
       "...                ...      ...\n",
       "2019-12-24  124.720284  1643400\n",
       "2019-12-26  125.050156  2197900\n",
       "2019-12-27  125.360641  2233600\n",
       "2019-12-30  125.050156  2546500\n",
       "2019-12-31  124.390427  4059800\n",
       "\n",
       "[252 rows x 2 columns]"
      ]
     },
     "execution_count": 10,
     "metadata": {},
     "output_type": "execute_result"
    }
   ],
   "source": [
    "tickers[0]"
   ]
  },
  {
   "cell_type": "markdown",
   "id": "aeecd0d2",
   "metadata": {},
   "source": [
    "**По взвешенной цене закрытия считаю логарифмические доходности за периоды.**"
   ]
  },
  {
   "cell_type": "code",
   "execution_count": 11,
   "id": "d7e7536a",
   "metadata": {},
   "outputs": [],
   "source": [
    "count = 0\n",
    "for ticker in tickers:\n",
    "    log_returns = []\n",
    "    close_price = ticker['Adj Close']\n",
    "    log_returns.append(None)\n",
    "    for i in range(1, len(close_price)):\n",
    "        log_return = (close_price[i] - close_price[i - 1]) / close_price[i - 1]\n",
    "        log_returns.append(log_return)\n",
    "    ticker['LogReturn'] = log_returns\n",
    "    count += 1"
   ]
  },
  {
   "cell_type": "code",
   "execution_count": 12,
   "id": "fc26e356",
   "metadata": {},
   "outputs": [
    {
     "data": {
      "text/html": [
       "<div>\n",
       "<style scoped>\n",
       "    .dataframe tbody tr th:only-of-type {\n",
       "        vertical-align: middle;\n",
       "    }\n",
       "\n",
       "    .dataframe tbody tr th {\n",
       "        vertical-align: top;\n",
       "    }\n",
       "\n",
       "    .dataframe thead th {\n",
       "        text-align: right;\n",
       "    }\n",
       "</style>\n",
       "<table border=\"1\" class=\"dataframe\">\n",
       "  <thead>\n",
       "    <tr style=\"text-align: right;\">\n",
       "      <th></th>\n",
       "      <th>Adj Close</th>\n",
       "      <th>Volume</th>\n",
       "      <th>LogReturn</th>\n",
       "    </tr>\n",
       "    <tr>\n",
       "      <th>Date</th>\n",
       "      <th></th>\n",
       "      <th></th>\n",
       "      <th></th>\n",
       "    </tr>\n",
       "  </thead>\n",
       "  <tbody>\n",
       "    <tr>\n",
       "      <th>2019-01-02</th>\n",
       "      <td>62.470619</td>\n",
       "      <td>4549300</td>\n",
       "      <td>NaN</td>\n",
       "    </tr>\n",
       "    <tr>\n",
       "      <th>2019-01-03</th>\n",
       "      <td>61.614986</td>\n",
       "      <td>4562200</td>\n",
       "      <td>-0.013697</td>\n",
       "    </tr>\n",
       "    <tr>\n",
       "      <th>2019-01-04</th>\n",
       "      <td>62.461220</td>\n",
       "      <td>4825900</td>\n",
       "      <td>0.013734</td>\n",
       "    </tr>\n",
       "    <tr>\n",
       "      <th>2019-01-07</th>\n",
       "      <td>65.517059</td>\n",
       "      <td>7630600</td>\n",
       "      <td>0.048924</td>\n",
       "    </tr>\n",
       "    <tr>\n",
       "      <th>2019-01-08</th>\n",
       "      <td>65.451233</td>\n",
       "      <td>6756000</td>\n",
       "      <td>-0.001005</td>\n",
       "    </tr>\n",
       "    <tr>\n",
       "      <th>...</th>\n",
       "      <td>...</td>\n",
       "      <td>...</td>\n",
       "      <td>...</td>\n",
       "    </tr>\n",
       "    <tr>\n",
       "      <th>2019-12-24</th>\n",
       "      <td>124.720284</td>\n",
       "      <td>1643400</td>\n",
       "      <td>0.001636</td>\n",
       "    </tr>\n",
       "    <tr>\n",
       "      <th>2019-12-26</th>\n",
       "      <td>125.050156</td>\n",
       "      <td>2197900</td>\n",
       "      <td>0.002645</td>\n",
       "    </tr>\n",
       "    <tr>\n",
       "      <th>2019-12-27</th>\n",
       "      <td>125.360641</td>\n",
       "      <td>2233600</td>\n",
       "      <td>0.002483</td>\n",
       "    </tr>\n",
       "    <tr>\n",
       "      <th>2019-12-30</th>\n",
       "      <td>125.050156</td>\n",
       "      <td>2546500</td>\n",
       "      <td>-0.002477</td>\n",
       "    </tr>\n",
       "    <tr>\n",
       "      <th>2019-12-31</th>\n",
       "      <td>124.390427</td>\n",
       "      <td>4059800</td>\n",
       "      <td>-0.005276</td>\n",
       "    </tr>\n",
       "  </tbody>\n",
       "</table>\n",
       "<p>252 rows × 3 columns</p>\n",
       "</div>"
      ],
      "text/plain": [
       "             Adj Close   Volume  LogReturn\n",
       "Date                                      \n",
       "2019-01-02   62.470619  4549300        NaN\n",
       "2019-01-03   61.614986  4562200  -0.013697\n",
       "2019-01-04   62.461220  4825900   0.013734\n",
       "2019-01-07   65.517059  7630600   0.048924\n",
       "2019-01-08   65.451233  6756000  -0.001005\n",
       "...                ...      ...        ...\n",
       "2019-12-24  124.720284  1643400   0.001636\n",
       "2019-12-26  125.050156  2197900   0.002645\n",
       "2019-12-27  125.360641  2233600   0.002483\n",
       "2019-12-30  125.050156  2546500  -0.002477\n",
       "2019-12-31  124.390427  4059800  -0.005276\n",
       "\n",
       "[252 rows x 3 columns]"
      ]
     },
     "execution_count": 12,
     "metadata": {},
     "output_type": "execute_result"
    }
   ],
   "source": [
    "tickers[0]"
   ]
  },
  {
   "cell_type": "markdown",
   "id": "77fb1631",
   "metadata": {},
   "source": [
    "**Для каждого актива высчитываю логарифмическую доходность за год (по сумме доходностей за отдельные периоды), а также оценку доходности как среднее от доходностей за отдельные периоды.**"
   ]
  },
  {
   "cell_type": "code",
   "execution_count": 13,
   "id": "b5c858ea",
   "metadata": {},
   "outputs": [],
   "source": [
    "companies_list['Annual LogReturn'] = [tickers[i]['LogReturn'].sum() for i, row in companies_list.iterrows()]\n",
    "companies_list['E'] = [tickers[i]['LogReturn'].mean() for i, row in companies_list.iterrows()]"
   ]
  },
  {
   "cell_type": "markdown",
   "id": "0b0d0a78",
   "metadata": {},
   "source": [
    "**Риск - стандартное отклонение доходности**"
   ]
  },
  {
   "cell_type": "code",
   "execution_count": 14,
   "id": "db3bea90",
   "metadata": {},
   "outputs": [],
   "source": [
    "companies_list['Risk'] = [tickers[i]['LogReturn'].std() for i, row in companies_list.iterrows()]"
   ]
  },
  {
   "cell_type": "markdown",
   "id": "d7c1dcab",
   "metadata": {},
   "source": [
    "**В некоторых слишком мало наблюдений, удалил все где меньше 100 периодов.**"
   ]
  },
  {
   "cell_type": "code",
   "execution_count": 15,
   "id": "a9934a8f",
   "metadata": {},
   "outputs": [],
   "source": [
    "little_observations = []\n",
    "for i in range(len(tickers)):\n",
    "    if len(tickers[i]) < 100:\n",
    "        little_observations.append(i)"
   ]
  },
  {
   "cell_type": "code",
   "execution_count": 16,
   "id": "122c62e4",
   "metadata": {},
   "outputs": [
    {
     "data": {
      "text/plain": [
       "[8, 9, 10, 13, 14, 19, 23, 42, 43, 48, 60, 61, 67, 72, 89, 106]"
      ]
     },
     "execution_count": 16,
     "metadata": {},
     "output_type": "execute_result"
    }
   ],
   "source": [
    "little_observations"
   ]
  },
  {
   "cell_type": "code",
   "execution_count": 17,
   "id": "d5f04acd",
   "metadata": {},
   "outputs": [],
   "source": [
    "companies_list = companies_list.drop(little_observations)"
   ]
  },
  {
   "cell_type": "code",
   "execution_count": 18,
   "id": "b3920ab5",
   "metadata": {},
   "outputs": [],
   "source": [
    "companies_list = companies_list.reset_index(drop=True)"
   ]
  },
  {
   "cell_type": "markdown",
   "id": "553b3c30",
   "metadata": {},
   "source": [
    "**Итоговые данные с которыми можно работать:**"
   ]
  },
  {
   "cell_type": "code",
   "execution_count": 19,
   "id": "0bfe51df",
   "metadata": {},
   "outputs": [
    {
     "data": {
      "text/html": [
       "<div>\n",
       "<style scoped>\n",
       "    .dataframe tbody tr th:only-of-type {\n",
       "        vertical-align: middle;\n",
       "    }\n",
       "\n",
       "    .dataframe tbody tr th {\n",
       "        vertical-align: top;\n",
       "    }\n",
       "\n",
       "    .dataframe thead th {\n",
       "        text-align: right;\n",
       "    }\n",
       "</style>\n",
       "<table border=\"1\" class=\"dataframe\">\n",
       "  <thead>\n",
       "    <tr style=\"text-align: right;\">\n",
       "      <th></th>\n",
       "      <th>Ticker</th>\n",
       "      <th>Company</th>\n",
       "      <th>Sector</th>\n",
       "      <th>Subsector</th>\n",
       "      <th>Annual LogReturn</th>\n",
       "      <th>E</th>\n",
       "      <th>Risk</th>\n",
       "    </tr>\n",
       "  </thead>\n",
       "  <tbody>\n",
       "    <tr>\n",
       "      <th>0</th>\n",
       "      <td>TGT</td>\n",
       "      <td>11 88 0 SOLUTIONS AG</td>\n",
       "      <td>Telecommunication</td>\n",
       "      <td>Telecommunication Services</td>\n",
       "      <td>0.741353</td>\n",
       "      <td>0.002954</td>\n",
       "      <td>0.020980</td>\n",
       "    </tr>\n",
       "    <tr>\n",
       "      <th>1</th>\n",
       "      <td>UUU</td>\n",
       "      <td>3U HOLDING AG</td>\n",
       "      <td>Industrial</td>\n",
       "      <td>Industrial Products &amp; Services</td>\n",
       "      <td>-0.441075</td>\n",
       "      <td>-0.001757</td>\n",
       "      <td>0.041125</td>\n",
       "    </tr>\n",
       "    <tr>\n",
       "      <th>2</th>\n",
       "      <td>VSC</td>\n",
       "      <td>4SC AG</td>\n",
       "      <td>Pharma &amp; Healthcare</td>\n",
       "      <td>Biotechnology</td>\n",
       "      <td>-0.271261</td>\n",
       "      <td>-0.001185</td>\n",
       "      <td>0.017601</td>\n",
       "    </tr>\n",
       "    <tr>\n",
       "      <th>3</th>\n",
       "      <td>ARL</td>\n",
       "      <td>AAREAL BANK AG</td>\n",
       "      <td>Banks</td>\n",
       "      <td>Mortgage Banks</td>\n",
       "      <td>0.468157</td>\n",
       "      <td>0.001865</td>\n",
       "      <td>0.034848</td>\n",
       "    </tr>\n",
       "    <tr>\n",
       "      <th>4</th>\n",
       "      <td>APM</td>\n",
       "      <td>AD PEPPER MEDIA   EO 0,05</td>\n",
       "      <td>Media</td>\n",
       "      <td>Advertising</td>\n",
       "      <td>0.192979</td>\n",
       "      <td>0.000769</td>\n",
       "      <td>0.037671</td>\n",
       "    </tr>\n",
       "    <tr>\n",
       "      <th>...</th>\n",
       "      <td>...</td>\n",
       "      <td>...</td>\n",
       "      <td>...</td>\n",
       "      <td>...</td>\n",
       "      <td>...</td>\n",
       "      <td>...</td>\n",
       "      <td>...</td>\n",
       "    </tr>\n",
       "    <tr>\n",
       "      <th>87</th>\n",
       "      <td>EQS</td>\n",
       "      <td>EQS GROUP AG NA O.N.</td>\n",
       "      <td>Software</td>\n",
       "      <td>IT-Services</td>\n",
       "      <td>0.004125</td>\n",
       "      <td>0.000018</td>\n",
       "      <td>0.026577</td>\n",
       "    </tr>\n",
       "    <tr>\n",
       "      <th>88</th>\n",
       "      <td>MUX</td>\n",
       "      <td>MUTARES KGAA  NA O.N.</td>\n",
       "      <td>Financial Services</td>\n",
       "      <td>Private Equity &amp; Venture Capital</td>\n",
       "      <td>-0.233334</td>\n",
       "      <td>-0.000930</td>\n",
       "      <td>0.036996</td>\n",
       "    </tr>\n",
       "    <tr>\n",
       "      <th>89</th>\n",
       "      <td>NTG</td>\n",
       "      <td>NABALTEC AG INH.</td>\n",
       "      <td>Industrial</td>\n",
       "      <td>Industrial Products &amp; Services</td>\n",
       "      <td>0.008308</td>\n",
       "      <td>0.000033</td>\n",
       "      <td>0.012426</td>\n",
       "    </tr>\n",
       "    <tr>\n",
       "      <th>90</th>\n",
       "      <td>NUVA</td>\n",
       "      <td>NORATIS AG  INH. O.N.</td>\n",
       "      <td>Financial Services</td>\n",
       "      <td>Real Estate</td>\n",
       "      <td>0.517704</td>\n",
       "      <td>0.002063</td>\n",
       "      <td>0.020158</td>\n",
       "    </tr>\n",
       "    <tr>\n",
       "      <th>91</th>\n",
       "      <td>PBY</td>\n",
       "      <td>PUBLITY AG NA O.N.</td>\n",
       "      <td>Financial Services</td>\n",
       "      <td>Real Estate</td>\n",
       "      <td>0.186140</td>\n",
       "      <td>0.000742</td>\n",
       "      <td>0.006588</td>\n",
       "    </tr>\n",
       "  </tbody>\n",
       "</table>\n",
       "<p>92 rows × 7 columns</p>\n",
       "</div>"
      ],
      "text/plain": [
       "   Ticker                    Company               Sector  \\\n",
       "0     TGT       11 88 0 SOLUTIONS AG    Telecommunication   \n",
       "1     UUU              3U HOLDING AG           Industrial   \n",
       "2     VSC                     4SC AG  Pharma & Healthcare   \n",
       "3     ARL             AAREAL BANK AG                Banks   \n",
       "4     APM  AD PEPPER MEDIA   EO 0,05                Media   \n",
       "..    ...                        ...                  ...   \n",
       "87    EQS       EQS GROUP AG NA O.N.             Software   \n",
       "88    MUX      MUTARES KGAA  NA O.N.   Financial Services   \n",
       "89    NTG           NABALTEC AG INH.           Industrial   \n",
       "90   NUVA      NORATIS AG  INH. O.N.   Financial Services   \n",
       "91    PBY         PUBLITY AG NA O.N.   Financial Services   \n",
       "\n",
       "                           Subsector  Annual LogReturn         E      Risk  \n",
       "0         Telecommunication Services          0.741353  0.002954  0.020980  \n",
       "1     Industrial Products & Services         -0.441075 -0.001757  0.041125  \n",
       "2                      Biotechnology         -0.271261 -0.001185  0.017601  \n",
       "3                     Mortgage Banks          0.468157  0.001865  0.034848  \n",
       "4                        Advertising          0.192979  0.000769  0.037671  \n",
       "..                               ...               ...       ...       ...  \n",
       "87                       IT-Services          0.004125  0.000018  0.026577  \n",
       "88  Private Equity & Venture Capital         -0.233334 -0.000930  0.036996  \n",
       "89    Industrial Products & Services          0.008308  0.000033  0.012426  \n",
       "90                       Real Estate          0.517704  0.002063  0.020158  \n",
       "91                       Real Estate          0.186140  0.000742  0.006588  \n",
       "\n",
       "[92 rows x 7 columns]"
      ]
     },
     "execution_count": 19,
     "metadata": {},
     "output_type": "execute_result"
    }
   ],
   "source": [
    "companies_list"
   ]
  },
  {
   "cell_type": "code",
   "execution_count": null,
   "id": "f7d8884b",
   "metadata": {},
   "outputs": [],
   "source": []
  }
 ],
 "metadata": {
  "kernelspec": {
   "display_name": "Python 3 (ipykernel)",
   "language": "python",
   "name": "python3"
  },
  "language_info": {
   "codemirror_mode": {
    "name": "ipython",
    "version": 3
   },
   "file_extension": ".py",
   "mimetype": "text/x-python",
   "name": "python",
   "nbconvert_exporter": "python",
   "pygments_lexer": "ipython3",
   "version": "3.9.7"
  }
 },
 "nbformat": 4,
 "nbformat_minor": 5
}
